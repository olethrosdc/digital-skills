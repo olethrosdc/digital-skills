{
 "cells": [
  {
   "cell_type": "code",
   "execution_count": 18,
   "id": "5b2010ef-86f9-4c53-8b18-bbfab6c957ce",
   "metadata": {},
   "outputs": [],
   "source": [
    "import numpy as np\n",
    "import matplotlib.pyplot as plt\n"
   ]
  },
  {
   "cell_type": "code",
   "execution_count": 19,
   "id": "2da43bf2-8c25-4c87-8a13-f32e6f3eefa5",
   "metadata": {},
   "outputs": [],
   "source": [
    "# input: binary data from coin tosses\n"
   ]
  },
  {
   "cell_type": "code",
   "execution_count": null,
   "id": "0db8c44a-31e8-48a2-9ee3-2f68eca8bece",
   "metadata": {},
   "outputs": [],
   "source": [
    "# plot the number of coin tosses"
   ]
  },
  {
   "cell_type": "code",
   "execution_count": 4,
   "id": "2513596b-f6d0-4036-aaee-d2054320cbdd",
   "metadata": {},
   "outputs": [],
   "source": [
    "# What do those data tell us? Discuss\n"
   ]
  },
  {
   "cell_type": "markdown",
   "id": "6d185cae-7084-4614-8a0f-8c4571a94864",
   "metadata": {},
   "source": [
    "# The Bernoulli distribution\n",
    "\n",
    "We can say that a coin has a fixed probability $\\theta \\in [0,1]$ of coming heads ($X=1$), so that\n",
    "$$\\Pr_\\theta(X=1) = \\theta.$$\n",
    "$$\\Pr_\\theta(X=0) = 1 -\\theta.$$\n",
    "Then it is said that X has a Bernoulli distribution with parameter $\\theta$. This is the most basic distribution."
   ]
  },
  {
   "cell_type": "markdown",
   "id": "4f592e0a-cfa0-4ed2-9f05-e0c1bda5359b",
   "metadata": {},
   "source": [
    "# The meaning of randomness\n",
    "\n",
    "Is the coin toss truly random? \n",
    "What does random mean?"
   ]
  },
  {
   "cell_type": "markdown",
   "id": "45b3d7b2-4f45-41d2-8d43-a1a342e286c2",
   "metadata": {},
   "source": [
    "# The uniform distribution\n",
    "The uniform distribution $P$ on any set $\\Omega$ satisfies the following axioms:\n",
    "(a) $P(\\Omega) = 1$\n",
    "(b) For any subset $A \\subset \\Omega$, \n",
    "$$P(A) = |A|/|\\Omega|$$,\n",
    "where $|A|$ is the size of set $A$.\n"
   ]
  },
  {
   "cell_type": "code",
   "execution_count": 32,
   "id": "233a8c34-46ae-4b2e-909f-31f3725a5ddd",
   "metadata": {},
   "outputs": [
    {
     "data": {
      "text/plain": [
       "(array([12., 12., 12.,  6., 10., 10.,  7.,  9., 12., 10.]),\n",
       " array([0.01616297, 0.11337843, 0.21059389, 0.30780935, 0.40502481,\n",
       "        0.50224027, 0.59945573, 0.69667119, 0.79388665, 0.89110211,\n",
       "        0.98831757]),\n",
       " <BarContainer object of 10 artists>)"
      ]
     },
     "execution_count": 32,
     "metadata": {},
     "output_type": "execute_result"
    },
    {
     "data": {
      "image/png": "[encoded data removed]",
      "text/plain": [
       "<Figure size 432x288 with 1 Axes>"
      ]
     },
     "metadata": {
      "needs_background": "light"
     },
     "output_type": "display_data"
    }
   ],
   "source": [
    "# Generate uniform data, plot the histogram\n",
    "\n"
   ]
  },
  {
   "cell_type": "code",
   "execution_count": 38,
   "id": "363251fe-babd-4960-8669-518e95baee4e",
   "metadata": {},
   "outputs": [
    {
     "data": {
      "text/plain": [
       "(array([1.23437156, 1.23437156, 1.23437156, 0.61718578, 1.02864297,\n",
       "        1.02864297, 0.72005008, 0.92577867, 1.23437156, 1.02864297]),\n",
       " array([0.01616297, 0.11337843, 0.21059389, 0.30780935, 0.40502481,\n",
       "        0.50224027, 0.59945573, 0.69667119, 0.79388665, 0.89110211,\n",
       "        0.98831757]),\n",
       " <BarContainer object of 10 artists>)"
      ]
     },
     "execution_count": 38,
     "metadata": {},
     "output_type": "execute_result"
    },
    {
     "data": {
      "image/png": "[encoded data removed]",
      "text/plain": [
       "<Figure size 432x288 with 1 Axes>"
      ]
     },
     "metadata": {
      "needs_background": "light"
     },
     "output_type": "display_data"
    }
   ],
   "source": [
    "# Now, collect data from students about their coin tosses.\n",
    "# Count the number of correct versus incorrect guesses.\n",
    "# Plot a histogram of their responses.\n",
    "# This should actually represent a so-called binomial distribution\n"
   ]
  },
  {
   "cell_type": "code",
   "execution_count": null,
   "id": "c3f8f236-d66c-4911-8d90-183bfe6e38f2",
   "metadata": {},
   "outputs": [],
   "source": []
  }
 ],
 "metadata": {
  "kernelspec": {
   "display_name": "Python 3 (ipykernel)",
   "language": "python",
   "name": "python3"
  },
  "language_info": {
   "codemirror_mode": {
    "name": "ipython",
    "version": 3
   },
   "file_extension": ".py",
   "mimetype": "text/x-python",
   "name": "python",
   "nbconvert_exporter": "python",
   "pygments_lexer": "ipython3",
   "version": "3.9.2"
  }
 },
 "nbformat": 4,
 "nbformat_minor": 5
}
