{
 "cells": [
  {
   "cell_type": "markdown",
   "id": "eaf2cda6-9f8c-49e5-86f0-c6071f6a2589",
   "metadata": {},
   "source": [
    "# Randomness and uncertainty\n",
    "\n",
    "Uncertainty quantifies what we don't know. Here are some sample questions:\n",
    "\n",
    "1. What is the probability that the sun rises tomorrow?\n",
    "2. If I threw a coin 100 times and it always came up heads, what do you think is more likely to happen if I throw it again? Is heads more likely than tails? Tails more likely then heads? Or about the same?\n",
    "3. If you are driving on a mountain road with poor visibility, and you want to overtake a slow-moving truck, what is the probability that you crash on oncoming traffic? Will you take the risk?\n",
    "\n"
   ]
  },
  {
   "cell_type": "code",
   "execution_count": 34,
   "id": "9da70679-b5f4-49a2-9810-9ab04c05fa9c",
   "metadata": {},
   "outputs": [],
   "source": [
    "# Here is a \"random algorithm\". There is nothing really random about it, though.\n",
    "# It performs omega * 10 + 50\n",
    "def random_algorithm(omega):\n",
    "    pass"
   ]
  },
  {
   "cell_type": "code",
   "execution_count": 29,
   "id": "386d6825-5d26-4520-9b70-bced415d8203",
   "metadata": {},
   "outputs": [],
   "source": [
    "# Let us generate some data with this random algorithm. \n",
    "# First, let us generate the x input\n"
   ]
  },
  {
   "cell_type": "code",
   "execution_count": 30,
   "id": "28cbbb0a-ae3a-48e5-be5c-c8163d908efc",
   "metadata": {},
   "outputs": [],
   "source": [
    "# Now let us generate some random 'coins'\n",
    "import numpy as np\n",
    "coins = np.random.binomial(n=10,p=0.5,size=n_data)"
   ]
  },
  {
   "cell_type": "code",
   "execution_count": 31,
   "id": "0e6db5cd-402d-460f-9b2d-777b3337b1b3",
   "metadata": {},
   "outputs": [],
   "source": [
    "y = random_algorithm(coins)"
   ]
  },
  {
   "cell_type": "code",
   "execution_count": 32,
   "id": "5622dbb7-45be-4e8c-a8e6-71c0d2c5bcb9",
   "metadata": {},
   "outputs": [
    {
     "data": {
      "text/plain": [
       "(array([  1.,  10.,  39., 119., 206., 261., 214.,  99.,  40.,  11.]),\n",
       " array([ 50.,  59.,  68.,  77.,  86.,  95., 104., 113., 122., 131., 140.]),\n",
       " <BarContainer object of 10 artists>)"
      ]
     },
     "execution_count": 32,
     "metadata": {},
     "output_type": "execute_result"
    },
    {
     "data": {
      "image/png": "[encoded data removed]",
      "text/plain": [
       "<Figure size 432x288 with 1 Axes>"
      ]
     },
     "metadata": {
      "needs_background": "light"
     },
     "output_type": "display_data"
    }
   ],
   "source": [
    "import matplotlib.pyplot as plt \n",
    "plt.hist(y)"
   ]
  },
  {
   "cell_type": "code",
   "execution_count": null,
   "id": "38cf3c51-31da-4bac-9f1a-3ca0996a6bd3",
   "metadata": {},
   "outputs": [],
   "source": []
  }
 ],
 "metadata": {
  "kernelspec": {
   "display_name": "Python 3",
   "language": "python",
   "name": "python3"
  },
  "language_info": {
   "codemirror_mode": {
    "name": "ipython",
    "version": 3
   },
   "file_extension": ".py",
   "mimetype": "text/x-python",
   "name": "python",
   "nbconvert_exporter": "python",
   "pygments_lexer": "ipython3",
   "version": "3.6.9"
  }
 },
 "nbformat": 4,
 "nbformat_minor": 5
}
