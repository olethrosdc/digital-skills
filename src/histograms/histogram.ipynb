{
 "cells": [
  {
   "cell_type": "code",
   "execution_count": 4,
   "metadata": {},
   "outputs": [
    {
     "data": {
      "text/plain": [
       "[<matplotlib.lines.Line2D at 0x7f5646507640>]"
      ]
     },
     "execution_count": 4,
     "metadata": {},
     "output_type": "execute_result"
    },
    {
     "data": {
      "image/png": "[encoded data removed]",
      "text/plain": [
       "<Figure size 432x288 with 1 Axes>"
      ]
     },
     "metadata": {
      "needs_background": "light"
     },
     "output_type": "display_data"
    }
   ],
   "source": [
    "import matplotlib.pyplot as plt # this is used for plotting\n",
    "plt.plot([0, 1, 2, 3], [1, 2, 4, 8])"
   ]
  },
  {
   "cell_type": "code",
   "execution_count": 10,
   "metadata": {},
   "outputs": [
    {
     "data": {
      "text/plain": [
       "[<matplotlib.lines.Line2D at 0x7f560f75de20>]"
      ]
     },
     "execution_count": 10,
     "metadata": {},
     "output_type": "execute_result"
    },
    {
     "data": {
      "image/png": "[encoded data removed]",
      "text/plain": [
       "<Figure size 432x288 with 1 Axes>"
      ]
     },
     "metadata": {
      "needs_background": "light"
     },
     "output_type": "display_data"
    }
   ],
   "source": [
    "plt.bar([0, 1, 2, 3], [1, 2, 4, 8]) #if you do more than one plot....\n",
    "plt.plot([0, 1, 2, 3], [1, 2, 4, 8], 'r') ## they appear in the same plot window\n",
    "plt.savefig(\"test.pdf\") # now the plot is saved in a file!"
   ]
  },
  {
   "cell_type": "code",
   "execution_count": 11,
   "metadata": {},
   "outputs": [
    {
     "data": {
      "text/plain": [
       "<BarContainer object of 2 artists>"
      ]
     },
     "execution_count": 11,
     "metadata": {},
     "output_type": "execute_result"
    },
    {
     "data": {
      "image/png": "[encoded data removed]",
      "text/plain": [
       "<Figure size 432x288 with 1 Axes>"
      ]
     },
     "metadata": {
      "needs_background": "light"
     },
     "output_type": "display_data"
    }
   ],
   "source": [
    "n_males = 20\n",
    "n_females = 19\n",
    "plt.bar([\"male\", \"female\"], [n_males, n_females]) # we can use arbitrary labels for the x axis"
   ]
  },
  {
   "cell_type": "code",
   "execution_count": 12,
   "metadata": {},
   "outputs": [
    {
     "data": {
      "text/plain": [
       "(array([8., 0., 0., 0., 0., 0., 0., 0., 0., 3.]),\n",
       " array([0. , 0.1, 0.2, 0.3, 0.4, 0.5, 0.6, 0.7, 0.8, 0.9, 1. ]),\n",
       " <BarContainer object of 10 artists>)"
      ]
     },
     "execution_count": 12,
     "metadata": {},
     "output_type": "execute_result"
    },
    {
     "data": {
      "image/png": "[encoded data removed]",
      "text/plain": [
       "<Figure size 432x288 with 1 Axes>"
      ]
     },
     "metadata": {
      "needs_background": "light"
     },
     "output_type": "display_data"
    }
   ],
   "source": [
    "# Generate data by flipping a coin repeatedly\n",
    "# and noting down the number of times it comes up\n",
    "# heads (1) or tails (0) to generate a binary array.\n",
    "# There is also a way to do this using numpy\n",
    "X = [0, 1, 1, 1, 0, 0, 0, 0, 0, 0, 0]\n",
    "plt.hist(X)"
   ]
  },
  {
   "cell_type": "code",
   "execution_count": 14,
   "metadata": {},
   "outputs": [],
   "source": [
    "# record the number of coin tosses\n",
    "import pandas as pd\n",
    "X = pd.read_csv(\"coin.dat\")"
   ]
  },
  {
   "cell_type": "code",
   "execution_count": 26,
   "metadata": {},
   "outputs": [
    {
     "data": {
      "text/plain": [
       "0      0.615385\n",
       "0.1    0.307692\n",
       "0.2    0.615385\n",
       "0.3    0.384615\n",
       "1      0.461538\n",
       "0.4    0.538462\n",
       "1.1    0.769231\n",
       "1.2    0.461538\n",
       "1.3    0.692308\n",
       "1.4    0.384615\n",
       "dtype: float64"
      ]
     },
     "execution_count": 26,
     "metadata": {},
     "output_type": "execute_result"
    }
   ],
   "source": []
  },
  {
   "cell_type": "markdown",
   "metadata": {
    "tags": []
   },
   "source": [
    "# The Bernoulli distribution\n",
    "\n",
    "We can say that a coin has a fixed probability $\\theta \\in [0,1]$ of coming heads ($X=1$), so that\n",
    "$$P_\\theta(X=1) = \\theta.$$\n",
    "$$P_\\theta(X=0) = 1 -\\theta.$$\n",
    "Then it is said that X has a Bernoulli distribution with parameter $\\theta$. This is the most basic distribution."
   ]
  },
  {
   "cell_type": "markdown",
   "metadata": {
    "tags": []
   },
   "source": [
    "# The meaning of randomness\n",
    "\n",
    "Is the coin toss truly random? \n",
    "What does random mean? Let us throw a 'random' coin using numpy\n"
   ]
  },
  {
   "cell_type": "code",
   "execution_count": 44,
   "metadata": {},
   "outputs": [
    {
     "data": {
      "text/plain": [
       "array([[1, 1, 0, 1, 0, 1, 1, 0, 1, 1],\n",
       "       [0, 1, 1, 0, 0, 1, 0, 0, 0, 0],\n",
       "       [0, 1, 0, 0, 1, 1, 0, 0, 1, 0],\n",
       "       [0, 1, 0, 0, 0, 1, 1, 0, 1, 1],\n",
       "       [1, 1, 1, 0, 1, 0, 0, 0, 0, 1],\n",
       "       [0, 1, 1, 1, 0, 1, 0, 1, 1, 0],\n",
       "       [1, 0, 0, 1, 0, 0, 0, 1, 1, 0],\n",
       "       [0, 0, 1, 0, 1, 1, 0, 1, 1, 0],\n",
       "       [1, 0, 0, 0, 0, 0, 1, 0, 1, 0],\n",
       "       [0, 0, 0, 0, 0, 0, 1, 1, 0, 1],\n",
       "       [1, 0, 0, 1, 0, 0, 1, 0, 0, 0],\n",
       "       [0, 0, 0, 1, 1, 1, 0, 0, 0, 1],\n",
       "       [1, 1, 1, 0, 1, 0, 1, 1, 1, 0],\n",
       "       [0, 1, 1, 1, 0, 0, 0, 0, 0, 1]])"
      ]
     },
     "execution_count": 44,
     "metadata": {},
     "output_type": "execute_result"
    }
   ],
   "source": [
    "import numpy as np\n",
    "# generate random throws and plot what happens with a histogram\n",
    "np.random.seed(10)\n",
    "np.random.choice(2,size=[14,10])"
   ]
  },
  {
   "cell_type": "code",
   "execution_count": null,
   "metadata": {},
   "outputs": [],
   "source": []
  },
  {
   "cell_type": "code",
   "execution_count": 53,
   "metadata": {},
   "outputs": [
    {
     "data": {
      "text/plain": [
       "(array([3., 0., 3., 0., 0., 3., 0., 4., 0., 1.]),\n",
       " array([0.3 , 0.34, 0.38, 0.42, 0.46, 0.5 , 0.54, 0.58, 0.62, 0.66, 0.7 ]),\n",
       " <BarContainer object of 10 artists>)"
      ]
     },
     "execution_count": 53,
     "metadata": {},
     "output_type": "execute_result"
    },
    {
     "data": {
      "image/png": "[encoded data removed]",
      "text/plain": [
       "<Figure size 432x288 with 1 Axes>"
      ]
     },
     "metadata": {
      "needs_background": "light"
     },
     "output_type": "display_data"
    }
   ],
   "source": [
    "# now we can perform 1000 experiments with pseudo-random coins and see what happens\n",
    "n_coins = 14\n",
    "n_throws = 10\n",
    "X = np.random.choice(2, size=[n_coins, n_throws])\n",
    "y = np.mean(X,axis=1)\n",
    "plt.hist(y)"
   ]
  },
  {
   "cell_type": "markdown",
   "metadata": {},
   "source": [
    "# The uniform distribution\n",
    "The uniform distribution $P$ on any set $\\Omega$ satisfies the following axioms:\n",
    "(a) $P(\\Omega) = 1$\n",
    "(b) For any subset $A \\subset \\Omega$, \n",
    "$$P(A) = |A|/|\\Omega|$$,\n",
    "where $|A|$ is the size of set $A$.\n"
   ]
  },
  {
   "cell_type": "code",
   "execution_count": 6,
   "metadata": {},
   "outputs": [],
   "source": [
    "# Generate uniform data, plot the histogram\n",
    "\n"
   ]
  },
  {
   "cell_type": "code",
   "execution_count": 7,
   "metadata": {},
   "outputs": [],
   "source": [
    "# Now, collect data from students about their coin tosses.\n",
    "# Count the number of correct versus incorrect guesses.\n",
    "# Plot a histogram of their responses.\n",
    "# This should actually represent a so-called binomial distribution\n"
   ]
  },
  {
   "cell_type": "code",
   "execution_count": null,
   "metadata": {},
   "outputs": [],
   "source": []
  }
 ],
 "metadata": {
  "kernelspec": {
   "display_name": "Python 3",
   "language": "python",
   "name": "python3"
  },
  "language_info": {
   "codemirror_mode": {
    "name": "ipython",
    "version": 3
   },
   "file_extension": ".py",
   "mimetype": "text/x-python",
   "name": "python",
   "nbconvert_exporter": "python",
   "pygments_lexer": "ipython3",
   "version": "3.8.10"
  }
 },
 "nbformat": 4,
 "nbformat_minor": 5
}
