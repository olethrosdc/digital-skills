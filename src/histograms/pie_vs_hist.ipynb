{
 "cells": [
  {
   "cell_type": "code",
   "execution_count": 4,
   "id": "303c2686-9565-4597-947b-8d9fe3b8d63b",
   "metadata": {},
   "outputs": [
    {
     "data": {
      "text/plain": [
       "([<matplotlib.patches.Wedge at 0x7f0f8c6e47f0>,\n",
       "  <matplotlib.patches.Wedge at 0x7f0f8c6e4cc0>,\n",
       "  <matplotlib.patches.Wedge at 0x7f0f8c6f1198>,\n",
       "  <matplotlib.patches.Wedge at 0x7f0f8c6f1630>],\n",
       " [Text(1.0461621663333946, 0.3399186987098808, 'pie'),\n",
       "  Text(0.33991867422268784, 1.0461621742897658, 'burger'),\n",
       "  Text(-1.0461621902025062, 0.3399186252483017, 'pasta'),\n",
       "  Text(0.3399188211458418, -1.0461621265515308, 'pizza')])"
      ]
     },
     "execution_count": 4,
     "metadata": {},
     "output_type": "execute_result"
    },
    {
     "data": {
      "image/png": "[encoded data removed]",
      "text/plain": [
       "<Figure size 432x288 with 1 Axes>"
      ]
     },
     "metadata": {},
     "output_type": "display_data"
    }
   ],
   "source": [
    "# First, some code to show how pie charts work\n",
    "import matplotlib.pyplot as plt\n",
    "# plt.pie(counts/proportions array, labels=labels list)\n",
    "plt.pie([0.1, 0.2, 0.3, 0.4], labels=[\"pie\", \"burger\", \"pasta\", \"pizza\"])"
   ]
  },
  {
   "cell_type": "code",
   "execution_count": 5,
   "id": "a5a99ac8-745a-4c27-8b4b-c67064f062c4",
   "metadata": {},
   "outputs": [],
   "source": [
    "# Let us try with some data - here just an array of three categories\n",
    "X = [1, 2, 3, 2, 2, 2, 1, 2, 3, 2, 1, 2, 3, 2, 1, 2, 3, 2, 2, 2, 1]"
   ]
  },
  {
   "cell_type": "code",
   "execution_count": 6,
   "id": "e576427e-4f06-4588-a2ef-cc72dcd2e2fc",
   "metadata": {},
   "outputs": [
    {
     "data": {
      "text/plain": [
       "(array([ 5.,  0.,  0.,  0.,  0., 12.,  0.,  0.,  0.,  4.]),\n",
       " array([1. , 1.2, 1.4, 1.6, 1.8, 2. , 2.2, 2.4, 2.6, 2.8, 3. ]),\n",
       " <BarContainer object of 10 artists>)"
      ]
     },
     "execution_count": 6,
     "metadata": {},
     "output_type": "execute_result"
    },
    {
     "data": {
      "image/png": "[encoded data removed]",
      "text/plain": [
       "<Figure size 432x288 with 1 Axes>"
      ]
     },
     "metadata": {
      "needs_background": "light"
     },
     "output_type": "display_data"
    }
   ],
   "source": [
    "# What does the histogram look like?"
   ]
  },
  {
   "cell_type": "code",
   "execution_count": 12,
   "id": "33b07011-cfd4-4d61-b0f2-dd713d0b6069",
   "metadata": {},
   "outputs": [
    {
     "data": {
      "text/plain": [
       "5"
      ]
     },
     "execution_count": 12,
     "metadata": {},
     "output_type": "execute_result"
    }
   ],
   "source": [
    "# how do we get a pie chart? We need to first count, which can be done with count\n"
   ]
  },
  {
   "cell_type": "code",
   "execution_count": 13,
   "id": "a42344e8-d6d1-49b8-a64c-c5ad91116b70",
   "metadata": {},
   "outputs": [
    {
     "data": {
      "text/plain": [
       "{1, 2, 3}"
      ]
     },
     "execution_count": 13,
     "metadata": {},
     "output_type": "execute_result"
    }
   ],
   "source": [
    "# how many values exist in X? convert X to a set with set()"
   ]
  },
  {
   "cell_type": "code",
   "execution_count": 17,
   "id": "01f8c80a-af33-4016-b9f2-5f9d408ec230",
   "metadata": {},
   "outputs": [
    {
     "data": {
      "text/plain": [
       "([<matplotlib.patches.Wedge at 0x7f0f8bc21d30>,\n",
       "  <matplotlib.patches.Wedge at 0x7f0f8bc2e2b0>,\n",
       "  <matplotlib.patches.Wedge at 0x7f0f8bc2e7b8>],\n",
       " [Text(0.8063570573449376, 0.7481900133455492, '1'),\n",
       "  Text(-1.0877138949597427, -0.1639465849339529, '2'),\n",
       "  Text(0.9088627608729387, -0.6196519038124709, '3')])"
      ]
     },
     "execution_count": 17,
     "metadata": {},
     "output_type": "execute_result"
    },
    {
     "data": {
      "image/png": "[encoded data removed]",
      "text/plain": [
       "<Figure size 432x288 with 1 Axes>"
      ]
     },
     "metadata": {},
     "output_type": "display_data"
    }
   ],
   "source": [
    "# Let us now build a count of everyhing\n",
    "counts = ...\n",
    "plt.pie(..)"
   ]
  },
  {
   "cell_type": "code",
   "execution_count": 16,
   "id": "fd93023e-90f2-46e8-9c4b-58db0e6b7fe1",
   "metadata": {},
   "outputs": [
    {
     "data": {
      "text/plain": [
       "[5, 12, 4]"
      ]
     },
     "execution_count": 16,
     "metadata": {},
     "output_type": "execute_result"
    }
   ],
   "source": [
    "# What other types of data can we use?"
   ]
  },
  {
   "cell_type": "code",
   "execution_count": null,
   "id": "baf4fe83-5168-4fd4-a0bb-ee44c1df2c9c",
   "metadata": {},
   "outputs": [],
   "source": []
  }
 ],
 "metadata": {
  "kernelspec": {
   "display_name": "Python 3",
   "language": "python",
   "name": "python3"
  },
  "language_info": {
   "codemirror_mode": {
    "name": "ipython",
    "version": 3
   },
   "file_extension": ".py",
   "mimetype": "text/x-python",
   "name": "python",
   "nbconvert_exporter": "python",
   "pygments_lexer": "ipython3",
   "version": "3.6.9"
  }
 },
 "nbformat": 4,
 "nbformat_minor": 5
}
