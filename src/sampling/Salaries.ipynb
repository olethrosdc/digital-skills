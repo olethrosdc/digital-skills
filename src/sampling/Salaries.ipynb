{
 "cells": [
  {
   "cell_type": "code",
   "execution_count": 1,
   "metadata": {},
   "outputs": [],
   "source": [
    "import numpy as np\n"
   ]
  },
  {
   "cell_type": "code",
   "execution_count": 2,
   "metadata": {},
   "outputs": [],
   "source": [
    "# Generate data\n",
    "def identical_populations(n_samples):\n",
    "    gender = np.random.choice(2, size = n_samples)\n",
    "    age = 18 + 60*np.random.beta(3,4, size = n_samples) \n",
    "    salary = 100 + np.random.exponential(100, size = n_samples)\n",
    "    return gender, age, salary"
   ]
  },
  {
   "cell_type": "code",
   "execution_count": 3,
   "metadata": {},
   "outputs": [],
   "source": [
    "# Generate data\n",
    "def different_populations(n_samples):\n",
    "    gender = np.random.choice(2, size = n_samples)\n",
    "    age = 18 + 60*np.random.beta(3,4, size = n_samples) \n",
    "    salary = 100*(1 + 0.1*gender)* np.random.exponential(100, size = n_samples)\n",
    "    return gender, age, salary"
   ]
  },
  {
   "cell_type": "code",
   "execution_count": null,
   "metadata": {},
   "outputs": [],
   "source": [
    "# Generate data\n",
    "def age_dependence(n_samples):\n",
    "    gender = np.random.choice(2, size = n_samples)\n",
    "    age = 18 + 60*np.random.beta(3,4, size = n_samples) \n",
    "    salary = 100* np.random.exponential(100, size = n_samples)\n",
    "    return gender, age, salary"
   ]
  },
  {
   "cell_type": "code",
   "execution_count": 5,
   "metadata": {},
   "outputs": [
    {
     "name": "stdout",
     "output_type": "stream",
     "text": [
      "205.55325959978023 195.82883420310918\n"
     ]
    },
    {
     "data": {
      "image/png": "[encoded data removed]",
      "text/plain": [
       "<Figure size 432x288 with 1 Axes>"
      ]
     },
     "metadata": {
      "needs_background": "light"
     },
     "output_type": "display_data"
    }
   ],
   "source": [
    "n_samples = 1000\n",
    "import matplotlib.pyplot as plt\n",
    "gender, age, salary = identical_populations(n_samples)\n",
    "plt.hist(salary[gender==0], alpha = 0.5, bins = np.arange(100)*10)\n",
    "plt.hist(salary[gender==1], alpha = 0.5, bins = np.arange(100)*10)\n",
    "print(np.mean(salary[gender==0]), np.mean(salary[gender==1]))"
   ]
  },
  {
   "cell_type": "code",
   "execution_count": 6,
   "metadata": {},
   "outputs": [
    {
     "data": {
      "text/plain": [
       "(array([0., 0., 0., 1., 0., 0., 0., 0., 1., 1., 1., 0., 2., 0., 0., 0., 0.,\n",
       "        1., 1., 1., 1., 0., 0., 0., 0., 0., 0., 1., 0., 1., 0., 0., 1., 0.,\n",
       "        1., 0., 0., 0., 0., 0., 1., 1., 1., 0., 0., 1., 0., 0., 0., 0., 2.,\n",
       "        0., 0., 1., 0., 0., 1., 0., 1., 0., 0., 1., 0., 1., 1., 1., 1., 1.,\n",
       "        0., 0., 0., 1., 0., 0., 0., 0., 0., 0., 0., 1., 0., 1., 0., 0., 0.,\n",
       "        1., 1., 0., 0., 1., 1., 0., 1., 1., 2., 1., 1., 1., 0.]),\n",
       " array([  0,  10,  20,  30,  40,  50,  60,  70,  80,  90, 100, 110, 120,\n",
       "        130, 140, 150, 160, 170, 180, 190, 200, 210, 220, 230, 240, 250,\n",
       "        260, 270, 280, 290, 300, 310, 320, 330, 340, 350, 360, 370, 380,\n",
       "        390, 400, 410, 420, 430, 440, 450, 460, 470, 480, 490, 500, 510,\n",
       "        520, 530, 540, 550, 560, 570, 580, 590, 600, 610, 620, 630, 640,\n",
       "        650, 660, 670, 680, 690, 700, 710, 720, 730, 740, 750, 760, 770,\n",
       "        780, 790, 800, 810, 820, 830, 840, 850, 860, 870, 880, 890, 900,\n",
       "        910, 920, 930, 940, 950, 960, 970, 980, 990]),\n",
       " <BarContainer object of 99 artists>)"
      ]
     },
     "execution_count": 6,
     "metadata": {},
     "output_type": "execute_result"
    },
    {
     "data": {
      "image/png": "[encoded data removed]",
      "text/plain": [
       "<Figure size 432x288 with 1 Axes>"
      ]
     },
     "metadata": {
      "needs_background": "light"
     },
     "output_type": "display_data"
    }
   ],
   "source": [
    "gender, age, salary = different_populations(n_samples)\n",
    "plt.hist(salary[gender==0], alpha = 0.5, bins = np.arange(100)*10)\n",
    "plt.hist(salary[gender==1], alpha = 0.5, bins = np.arange(100)*10)"
   ]
  },
  {
   "cell_type": "code",
   "execution_count": 7,
   "metadata": {},
   "outputs": [
    {
     "name": "stdout",
     "output_type": "stream",
     "text": [
      "9566.70986455853 11449.439392567327\n"
     ]
    }
   ],
   "source": [
    "print(np.mean(salary[gender==0]), np.mean(salary[gender==1]))"
   ]
  },
  {
   "cell_type": "code",
   "execution_count": 8,
   "metadata": {},
   "outputs": [],
   "source": [
    "# simulation to see how how our estimates vary\n",
    "n_simulations = 1000\n",
    "mean_women = np.zeros(n_simulations)\n",
    "mean_men = np.zeros(n_simulations)"
   ]
  },
  {
   "cell_type": "code",
   "execution_count": 12,
   "metadata": {},
   "outputs": [
    {
     "data": {
      "text/plain": [
       "(array([  9.,  49., 157., 273., 236., 156.,  79.,  27.,   8.,   6.]),\n",
       " array([ 6676.17941126,  7702.97375015,  8729.76808904,  9756.56242793,\n",
       "        10783.35676681, 11810.1511057 , 12836.94544459, 13863.73978348,\n",
       "        14890.53412237, 15917.32846126, 16944.12280015]),\n",
       " <BarContainer object of 10 artists>)"
      ]
     },
     "execution_count": 12,
     "metadata": {},
     "output_type": "execute_result"
    },
    {
     "data": {
      "image/png": "[encoded data removed]",
      "text/plain": [
       "<Figure size 432x288 with 1 Axes>"
      ]
     },
     "metadata": {
      "needs_background": "light"
     },
     "output_type": "display_data"
    }
   ],
   "source": [
    "# plot the histogram over simulations!\n",
    "n_samples = 100\n",
    "for t in range(n_simulations):\n",
    "    gender, age, salary = different_populations(n_samples)\n",
    "    # the folllowing is what we actually calculate in our method\n",
    "    mean_women[t] = np.mean(salary[gender==0])\n",
    "    mean_men[t] = np.mean(salary[gender==1])\n",
    "plt.hist(mean_women, alpha = 0.5)\n",
    "plt.hist(mean_men, alpha = 0.5)"
   ]
  },
  {
   "cell_type": "markdown",
   "metadata": {},
   "source": [
    "# Bootstrapping\n",
    "\n",
    "How can we measure variability with only one dataset?\n",
    "The simple answer is to generate more dasets from the original one.\n",
    "In particular, if we have a dataset $D$, we create $n$ bootstrap replicates of the original as follows.\n",
    "\n",
    "For replicate $D_i$, we first sample $k = |D|$ indices from the uniform distribution on $k$ with replacement. The entries of $D_i$ are then the entries of the original dataset, sometimes appearing once, some times never, some times more than once.\n"
   ]
  },
  {
   "cell_type": "code",
   "execution_count": 13,
   "metadata": {},
   "outputs": [],
   "source": [
    "# Now do a bootstrap sample \n",
    "gender, age, salary = identical_populations(n_samples)\n",
    "data = np.array([gender, age, salary]).transpose()\n"
   ]
  },
  {
   "cell_type": "code",
   "execution_count": 14,
   "metadata": {},
   "outputs": [
    {
     "name": "stdout",
     "output_type": "stream",
     "text": [
      "78.2043383531025 86.0616653564288\n"
     ]
    }
   ],
   "source": [
    "print(np.mean(data[data[:,0]==0]), # pick rows where gender (attribute 0) is zero\n",
    "      np.mean(data[data[:,0]==1])) # pick rows where gender (attribute 0) is one"
   ]
  },
  {
   "cell_type": "code",
   "execution_count": 15,
   "metadata": {},
   "outputs": [],
   "source": [
    "idx = np.random.choice(n_samples, size=n_samples)"
   ]
  },
  {
   "cell_type": "code",
   "execution_count": 16,
   "metadata": {},
   "outputs": [
    {
     "data": {
      "text/plain": [
       "array([[  1.        ,  25.9133738 , 105.38717405],\n",
       "       [  0.        ,  35.13181201, 318.53778264],\n",
       "       [  1.        ,  29.80751511, 190.73572778],\n",
       "       [  0.        ,  48.51833246, 486.55075004],\n",
       "       [  0.        ,  33.06640055, 204.62230443],\n",
       "       [  0.        ,  42.84773292, 211.35795575],\n",
       "       [  1.        ,  56.21226852, 101.65064926],\n",
       "       [  1.        ,  49.64564868, 251.20359943],\n",
       "       [  1.        ,  45.72893586, 109.22851555],\n",
       "       [  0.        ,  42.84773292, 211.35795575],\n",
       "       [  1.        ,  29.79143029, 131.03128316],\n",
       "       [  1.        ,  55.69927874, 129.58918343],\n",
       "       [  0.        ,  32.90983932, 194.27595021],\n",
       "       [  1.        ,  31.53125774, 206.19350501],\n",
       "       [  1.        ,  61.04838047, 456.47673523],\n",
       "       [  0.        ,  46.55349518, 104.63738153],\n",
       "       [  0.        ,  40.36736032, 217.97626875],\n",
       "       [  1.        ,  35.85386806, 157.50379895],\n",
       "       [  0.        ,  45.97734879, 189.82581368],\n",
       "       [  1.        ,  27.64484262, 178.06330977],\n",
       "       [  1.        ,  28.07164388, 100.96286981],\n",
       "       [  0.        ,  33.06640055, 204.62230443],\n",
       "       [  0.        ,  35.67551007, 421.29436932],\n",
       "       [  0.        ,  49.73293521, 129.9002618 ],\n",
       "       [  1.        ,  39.16176875, 152.15371178],\n",
       "       [  1.        ,  28.07164388, 100.96286981],\n",
       "       [  1.        ,  56.21226852, 101.65064926],\n",
       "       [  1.        ,  51.75900574, 157.62128347],\n",
       "       [  0.        ,  60.61852773, 154.95953074],\n",
       "       [  1.        ,  29.95202677, 113.79821883],\n",
       "       [  1.        ,  32.58924037, 152.76784352],\n",
       "       [  1.        ,  51.78870031, 150.57457733],\n",
       "       [  0.        ,  39.07213909, 148.7121634 ],\n",
       "       [  0.        ,  45.97734879, 189.82581368],\n",
       "       [  1.        ,  56.21226852, 101.65064926],\n",
       "       [  1.        ,  49.25506289, 270.04229822],\n",
       "       [  1.        ,  36.70559221, 188.03151947],\n",
       "       [  1.        ,  39.29834764, 501.73614807],\n",
       "       [  1.        ,  30.99949929, 150.02825167],\n",
       "       [  1.        ,  47.52787649, 207.96894059],\n",
       "       [  1.        ,  29.80751511, 190.73572778],\n",
       "       [  1.        ,  41.28130384, 326.36076768],\n",
       "       [  1.        ,  57.95679933, 551.74093723],\n",
       "       [  0.        ,  32.90983932, 194.27595021],\n",
       "       [  1.        ,  42.06971516, 232.91652156],\n",
       "       [  1.        ,  61.40806861, 126.49739429],\n",
       "       [  0.        ,  45.97734879, 189.82581368],\n",
       "       [  1.        ,  42.06971516, 232.91652156],\n",
       "       [  1.        ,  47.52787649, 207.96894059],\n",
       "       [  0.        ,  61.59370695, 193.36703752],\n",
       "       [  0.        ,  45.97734879, 189.82581368],\n",
       "       [  0.        ,  66.77457485, 157.01055199],\n",
       "       [  1.        ,  45.72893586, 109.22851555],\n",
       "       [  1.        ,  51.78870031, 150.57457733],\n",
       "       [  1.        ,  56.49204571, 348.90735428],\n",
       "       [  0.        ,  38.55091241, 338.98514878],\n",
       "       [  0.        ,  61.59370695, 193.36703752],\n",
       "       [  0.        ,  37.08179654, 127.46777653],\n",
       "       [  1.        ,  28.07164388, 100.96286981],\n",
       "       [  0.        ,  53.73422096, 178.29445015],\n",
       "       [  1.        ,  41.38723966, 489.5831992 ],\n",
       "       [  1.        ,  57.42797992, 133.6167728 ],\n",
       "       [  1.        ,  56.49204571, 348.90735428],\n",
       "       [  0.        ,  48.6012302 , 194.03112456],\n",
       "       [  0.        ,  37.49094633, 157.14974531],\n",
       "       [  1.        ,  51.78870031, 150.57457733],\n",
       "       [  0.        ,  48.6012302 , 194.03112456],\n",
       "       [  0.        ,  34.81980521, 192.66928292],\n",
       "       [  1.        ,  62.98032054, 102.46425021],\n",
       "       [  0.        ,  28.42189741, 139.29796914],\n",
       "       [  0.        ,  49.80056946, 181.946537  ],\n",
       "       [  0.        ,  34.22509339, 102.65970866],\n",
       "       [  1.        ,  36.58846841, 130.19961738],\n",
       "       [  0.        ,  45.80591288, 142.49752549],\n",
       "       [  0.        ,  28.8263503 , 141.76840253],\n",
       "       [  0.        ,  35.4333339 , 304.38124035],\n",
       "       [  1.        ,  47.13559869, 326.3909211 ],\n",
       "       [  0.        ,  60.61852773, 154.95953074],\n",
       "       [  1.        ,  49.64564868, 251.20359943],\n",
       "       [  0.        ,  42.58485045, 208.01173721],\n",
       "       [  0.        ,  46.76847345, 253.39318523],\n",
       "       [  0.        ,  66.77457485, 157.01055199],\n",
       "       [  0.        ,  49.80056946, 181.946537  ],\n",
       "       [  0.        ,  29.97570557, 128.57201421],\n",
       "       [  1.        ,  27.64484262, 178.06330977],\n",
       "       [  1.        ,  41.38723966, 489.5831992 ],\n",
       "       [  1.        ,  45.72893586, 109.22851555],\n",
       "       [  1.        ,  61.40806861, 126.49739429],\n",
       "       [  1.        ,  37.44704789, 160.55176842],\n",
       "       [  1.        ,  54.16655149, 301.41615431],\n",
       "       [  0.        ,  48.51833246, 486.55075004],\n",
       "       [  1.        ,  61.40806861, 126.49739429],\n",
       "       [  0.        ,  42.03544544, 114.74211642],\n",
       "       [  0.        ,  39.97817874, 108.40217404],\n",
       "       [  1.        ,  37.44704789, 160.55176842],\n",
       "       [  0.        ,  40.36736032, 217.97626875],\n",
       "       [  1.        ,  49.25506289, 270.04229822],\n",
       "       [  0.        ,  35.4333339 , 304.38124035],\n",
       "       [  1.        ,  41.28130384, 326.36076768],\n",
       "       [  1.        ,  46.81425839, 261.86646616]])"
      ]
     },
     "execution_count": 16,
     "metadata": {},
     "output_type": "execute_result"
    }
   ],
   "source": [
    "data[idx] # a bootstrap sample"
   ]
  },
  {
   "cell_type": "code",
   "execution_count": 52,
   "metadata": {},
   "outputs": [
    {
     "data": {
      "text/plain": [
       "{'whiskers': [<matplotlib.lines.Line2D at 0x7fcdef4c8100>,\n",
       "  <matplotlib.lines.Line2D at 0x7fcdef4c83d0>,\n",
       "  <matplotlib.lines.Line2D at 0x7fcdef42b4f0>,\n",
       "  <matplotlib.lines.Line2D at 0x7fcdef42b7c0>],\n",
       " 'caps': [<matplotlib.lines.Line2D at 0x7fcdef4c86a0>,\n",
       "  <matplotlib.lines.Line2D at 0x7fcdef4c8970>,\n",
       "  <matplotlib.lines.Line2D at 0x7fcdef42ba90>,\n",
       "  <matplotlib.lines.Line2D at 0x7fcdef42bd60>],\n",
       " 'boxes': [<matplotlib.lines.Line2D at 0x7fcdef4a3df0>,\n",
       "  <matplotlib.lines.Line2D at 0x7fcdef42b220>],\n",
       " 'medians': [<matplotlib.lines.Line2D at 0x7fcdef4c8c40>,\n",
       "  <matplotlib.lines.Line2D at 0x7fcdef445070>],\n",
       " 'fliers': [<matplotlib.lines.Line2D at 0x7fcdef4c8f10>,\n",
       "  <matplotlib.lines.Line2D at 0x7fcdef445340>],\n",
       " 'means': []}"
      ]
     },
     "execution_count": 52,
     "metadata": {},
     "output_type": "execute_result"
    },
    {
     "data": {
      "image/png": "[encoded data removed]",
      "text/plain": [
       "<Figure size 432x288 with 1 Axes>"
      ]
     },
     "metadata": {
      "needs_background": "light"
     },
     "output_type": "display_data"
    }
   ],
   "source": [
    "# plot the histogram over bootstrap samples!\n",
    "n_samples = 1000\n",
    "gender, age, salary = different_populations(n_samples)\n",
    "data = np.array([gender, age, salary]).transpose()\n",
    "for t in range(n_simulations):\n",
    "    # get a bootstrap sample\n",
    "    data_bs = data[np.random.choice(n_samples, size=n_samples)]\n",
    "    salary = data_bs[:,2]\n",
    "    gender = data_bs[:,0]\n",
    "    age = data_bs[:,1]\n",
    "    # the folllowing is what we actually calculate in our method\n",
    "    mean_women[t] = np.mean(salary[gender==0])\n",
    "    mean_men[t] = np.mean(salary[gender==1])\n",
    "\n",
    "plt.boxplot([mean_women, mean_men])"
   ]
  },
  {
   "cell_type": "code",
   "execution_count": 53,
   "metadata": {},
   "outputs": [
    {
     "data": {
      "text/plain": [
       "(array([  2.,  15.,  68., 167., 265., 260., 140.,  65.,  16.,   2.]),\n",
       " array([-1371.24946823,  -938.03277082,  -504.81607342,   -71.59937601,\n",
       "          361.6173214 ,   794.8340188 ,  1228.05071621,  1661.26741362,\n",
       "         2094.48411103,  2527.70080843,  2960.91750584]),\n",
       " <BarContainer object of 10 artists>)"
      ]
     },
     "execution_count": 53,
     "metadata": {},
     "output_type": "execute_result"
    },
    {
     "data": {
      "image/png": "[encoded data removed]",
      "text/plain": [
       "<Figure size 432x288 with 1 Axes>"
      ]
     },
     "metadata": {
      "needs_background": "light"
     },
     "output_type": "display_data"
    }
   ],
   "source": [
    "plt.hist(mean_men - mean_women)"
   ]
  },
  {
   "cell_type": "code",
   "execution_count": 54,
   "metadata": {},
   "outputs": [
    {
     "data": {
      "text/plain": [
       "(array([ 20.,  70., 176., 242., 246., 147.,  72.,  23.,   3.,   1.]),\n",
       " array([ 8767.07190151,  9033.34528084,  9299.61866016,  9565.89203948,\n",
       "         9832.16541881, 10098.43879813, 10364.71217746, 10630.98555678,\n",
       "        10897.2589361 , 11163.53231543, 11429.80569475]),\n",
       " <BarContainer object of 10 artists>)"
      ]
     },
     "execution_count": 54,
     "metadata": {},
     "output_type": "execute_result"
    },
    {
     "data": {
      "image/png": "[encoded data removed]",
      "text/plain": [
       "<Figure size 432x288 with 1 Axes>"
      ]
     },
     "metadata": {
      "needs_background": "light"
     },
     "output_type": "display_data"
    }
   ],
   "source": [
    "plt.hist(mean_men)\n",
    "plt.hist(mean_women)"
   ]
  },
  {
   "cell_type": "code",
   "execution_count": 55,
   "metadata": {},
   "outputs": [],
   "source": [
    "mean_men.sort()\n",
    "mean_women.sort()"
   ]
  },
  {
   "cell_type": "code",
   "execution_count": 56,
   "metadata": {},
   "outputs": [
    {
     "data": {
      "text/plain": [
       "(10024.964123700584, 11225.75030244746)"
      ]
     },
     "execution_count": 56,
     "metadata": {},
     "output_type": "execute_result"
    }
   ],
   "source": [
    "mean_men[100], mean_men[900]"
   ]
  },
  {
   "cell_type": "code",
   "execution_count": 57,
   "metadata": {},
   "outputs": [
    {
     "data": {
      "text/plain": [
       "(9327.436692435234, 10363.779264899871)"
      ]
     },
     "execution_count": 57,
     "metadata": {},
     "output_type": "execute_result"
    }
   ],
   "source": [
    "mean_women[100], mean_women[900]"
   ]
  },
  {
   "cell_type": "code",
   "execution_count": 58,
   "metadata": {},
   "outputs": [],
   "source": [
    "if (mean_women[int(0.9*n_simulations)]) < (mean_men[int(0.1*n_simulations)]):\n",
    "    print(\"Inequality detected\")"
   ]
  },
  {
   "cell_type": "code",
   "execution_count": null,
   "metadata": {},
   "outputs": [],
   "source": []
  }
 ],
 "metadata": {
  "kernelspec": {
   "display_name": "Python 3",
   "language": "python",
   "name": "python3"
  },
  "language_info": {
   "codemirror_mode": {
    "name": "ipython",
    "version": 3
   },
   "file_extension": ".py",
   "mimetype": "text/x-python",
   "name": "python",
   "nbconvert_exporter": "python",
   "pygments_lexer": "ipython3",
   "version": "3.8.10"
  }
 },
 "nbformat": 4,
 "nbformat_minor": 4
}
