{
 "cells": [
  {
   "cell_type": "code",
   "execution_count": 3,
   "id": "91e53aaa-0503-4cb7-9916-a929c050d1cc",
   "metadata": {},
   "outputs": [],
   "source": [
    "# Import the necessary files\n",
    "import pandas as pd"
   ]
  },
  {
   "cell_type": "code",
   "execution_count": 4,
   "id": "1059da23-8676-4cf3-810d-b8b0dcb4612a",
   "metadata": {},
   "outputs": [],
   "source": [
    "# Read the tables\n",
    "tables = pd.read_html(\"https://en.wikipedia.org/wiki/1500_metres_world_record_progression\")\n",
    "table = tables[1]"
   ]
  },
  {
   "cell_type": "code",
   "execution_count": 5,
   "id": "d892afac-9010-469c-a731-3b1c69457b90",
   "metadata": {},
   "outputs": [],
   "source": [
    "# Demonstrate how tables look like with indices etc"
   ]
  },
  {
   "cell_type": "code",
   "execution_count": 6,
   "id": "15999a40-9620-401d-815c-015b57db84d2",
   "metadata": {},
   "outputs": [
    {
     "data": {
      "text/plain": [
       "Timedelta('31447 days 00:00:00')"
      ]
     },
     "execution_count": 6,
     "metadata": {},
     "output_type": "execute_result"
    }
   ],
   "source": [
    "# Read times and dates from one table only\n",
    "# Pre-coded example\n",
    "times=table['Time']\n",
    "dates=table['Date']\n",
    "dates = pd.to_datetime(dates)\n",
    "dates.max()-dates.min()"
   ]
  },
  {
   "cell_type": "code",
   "execution_count": 7,
   "id": "a09d4fc5-f5bb-4340-ad84-1c400c0427be",
   "metadata": {},
   "outputs": [],
   "source": [
    "# Pick one record set\n",
    "import numpy as np\n",
    "#import datetime\n",
    "n_records = len(times)-25\n",
    "years = np.zeros(n_records) # create zero years\n",
    "seconds = np.zeros(n_records) # create zero years\n",
    "for i in range(n_records):   \n",
    "    years[i] = dates[i].date().year\n",
    "    tmp = times[i].replace(\"+\",\"0\").split(':')\n",
    "    seconds[i] = float(tmp[0])*60+float(tmp[1])"
   ]
  },
  {
   "cell_type": "code",
   "execution_count": 8,
   "id": "e89857c7-3c86-4af5-b1e8-3525ac51bbb0",
   "metadata": {},
   "outputs": [
    {
     "data": {
      "text/plain": [
       "(1910.0, 2000.0, 200.0, 240.0)"
      ]
     },
     "execution_count": 8,
     "metadata": {},
     "output_type": "execute_result"
    },
    {
     "data": {
      "image/png": "[encoded data removed]",
      "text/plain": [
       "<Figure size 432x288 with 1 Axes>"
      ]
     },
     "metadata": {
      "needs_background": "light"
     },
     "output_type": "display_data"
    }
   ],
   "source": [
    "import matplotlib.pyplot as plt\n",
    "plt.plot(years, seconds)\n",
    "plt.axis([1910, 2000, 200, 240])"
   ]
  },
  {
   "cell_type": "code",
   "execution_count": null,
   "id": "32157e32-32fb-4408-a8ed-708719ff567e",
   "metadata": {},
   "outputs": [
    {
     "data": {
      "text/plain": [
       "0      3:55.8\n",
       "1      3:54.7\n",
       "2      3:52.6\n",
       "3      3:51.0\n",
       "4      3:49.2\n",
       "5      3:49.2\n",
       "6      3:49.0\n",
       "7      3:48.8\n",
       "8      3:47.8\n",
       "9      3:47.6\n",
       "10     3:45.8\n",
       "11     3:45.0\n",
       "12     3:43.0\n",
       "13     3:43.0\n",
       "14     3:43.0\n",
       "15    3:42.8+\n",
       "16    3:41.8+\n",
       "17     3:40.8\n",
       "18     3:40.8\n",
       "19     3:40.8\n",
       "20     3:40.6\n",
       "21     3:40.2\n",
       "22     3:40.2\n",
       "23     3:38.1\n",
       "24     3:36.0\n",
       "25     3:35.6\n",
       "26     3:33.1\n",
       "27     3:32.2\n",
       "28     3:32.1\n",
       "29     3:32.1\n",
       "30     3:31.4\n",
       "31    3:31.24\n",
       "32    3:30.77\n",
       "33    3:29.67\n",
       "34    3:29.46\n",
       "35    3:28.86\n",
       "36    3:27.37\n",
       "37    3:26.00\n",
       "Name: Time, dtype: object"
      ]
     },
     "execution_count": 10,
     "metadata": {},
     "output_type": "execute_result"
    }
   ],
   "source": [
    "date.year"
   ]
  },
  {
   "cell_type": "code",
   "execution_count": null,
   "id": "38a6c2aa-b87a-4f7b-9362-3860970b87f2",
   "metadata": {},
   "outputs": [],
   "source": []
  }
 ],
 "metadata": {
  "kernelspec": {
   "display_name": "Python 3",
   "language": "python",
   "name": "python3"
  },
  "language_info": {
   "codemirror_mode": {
    "name": "ipython",
    "version": 3
   },
   "file_extension": ".py",
   "mimetype": "text/x-python",
   "name": "python",
   "nbconvert_exporter": "python",
   "pygments_lexer": "ipython3",
   "version": "3.6.9"
  }
 },
 "nbformat": 4,
 "nbformat_minor": 5
}
