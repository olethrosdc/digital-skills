{
 "cells": [
  {
   "cell_type": "markdown",
   "metadata": {},
   "source": [
    "# World records example\n",
    "\n",
    "This example is in an illustration of concepts in python programming and the modelling of time-series data.\n",
    "\n",
    "## Python concepts\n",
    "\n",
    "This is a relatively complex Python program. Some parts are unfortunately too advanced by neccessity. You are not expected to be digest all of this right now, but you should be able to do something similar by the end of the course. Do not try to understand what the program is doing in detail, if you have no Python knowledge. Advanced concepts will be marked with 'advanced' \n",
    "\n"
   ]
  },
  {
   "cell_type": "code",
   "execution_count": 1,
   "metadata": {},
   "outputs": [],
   "source": [
    "# Import the necessary files\n",
    "import pandas as pd"
   ]
  },
  {
   "cell_type": "code",
   "execution_count": 2,
   "metadata": {},
   "outputs": [],
   "source": [
    "# Read all the tables from the following wikipedia article\n",
    "tables = pd.read_html(\"https://en.wikipedia.org/wiki/1500_metres_world_record_progression\")\n",
    "\n",
    "# we only care about the second table\n",
    "table = tables[1]"
   ]
  },
  {
   "cell_type": "code",
   "execution_count": 3,
   "metadata": {},
   "outputs": [],
   "source": [
    "# Demonstrate how tables look like with indices etc"
   ]
  },
  {
   "cell_type": "code",
   "execution_count": 4,
   "metadata": {},
   "outputs": [],
   "source": [
    "# For convenience, we define this variable to refer to the table we are interested in\n",
    "table = tables[1]\n",
    "\n",
    "# We want to plot the world record times versus the year, so we pick two columns from the table\n",
    "times=table['Time']\n",
    "dates=table['Date']\n",
    "# show how times and dates look like"
   ]
  },
  {
   "cell_type": "code",
   "execution_count": 5,
   "metadata": {},
   "outputs": [],
   "source": [
    "    "
   ]
  },
  {
   "cell_type": "code",
   "execution_count": 6,
   "metadata": {},
   "outputs": [],
   "source": [
    "# advanced python: multiple advanced concepts are used to convert the data into a numeric format.\n",
    "# There is no 'easy' way to do this. You can ignore this at first.\n",
    "\n",
    "dates = pd.to_datetime(dates) # advanced: convert the date *string* to a date *object* that we can later parse\n",
    "\n",
    "import numpy as np\n",
    "n_records = len(times)-25\n",
    "years = np.zeros(n_records) # create a zero vector for the years\n",
    "seconds = np.zeros(n_records) # create a zero vector for the seconds\n",
    "## Now we need to parse the table into numbers\n",
    "for i in range(n_records): # advanced: first, we need to loop through all the records   \n",
    "    years[i] = dates[i].date().year # advanced: extract the year from the full date\n",
    "    # times are formatted as '3:30.23', sometimes with a + at the end\n",
    "    tmp = times[i].replace(\"+\",\"0\").split(':') # advanced: this (1) replaces \"+\" wiht \"0\" and the splits the date in two numbers\n",
    "    seconds[i] = float(tmp[0])*60+float(tmp[1]) # this combines the number of minutes and number of seconds in total seconds"
   ]
  },
  {
   "cell_type": "code",
   "execution_count": 7,
   "metadata": {},
   "outputs": [
    {
     "data": {
      "image/png": "[encoded data removed]",
      "text/plain": [
       "<Figure size 432x288 with 1 Axes>"
      ]
     },
     "metadata": {
      "needs_background": "light"
     },
     "output_type": "display_data"
    }
   ],
   "source": [
    "import matplotlib.pyplot as plt\n",
    "plt.plot(years, seconds)\n",
    "plt.axis([1910, 2020, 200, 240])\n",
    "plt.savefig(\"records.pdf\")"
   ]
  },
  {
   "cell_type": "code",
   "execution_count": 8,
   "metadata": {},
   "outputs": [
    {
     "ename": "NameError",
     "evalue": "name 'date' is not defined",
     "output_type": "error",
     "traceback": [
      "\u001b[0;31m---------------------------------------------------------------------------\u001b[0m",
      "\u001b[0;31mNameError\u001b[0m                                 Traceback (most recent call last)",
      "\u001b[0;32m<ipython-input-8-617590bcdcf1>\u001b[0m in \u001b[0;36m<module>\u001b[0;34m\u001b[0m\n\u001b[0;32m----> 1\u001b[0;31m \u001b[0mdate\u001b[0m\u001b[0;34m.\u001b[0m\u001b[0myear\u001b[0m\u001b[0;34m\u001b[0m\u001b[0;34m\u001b[0m\u001b[0m\n\u001b[0m",
      "\u001b[0;31mNameError\u001b[0m: name 'date' is not defined"
     ]
    }
   ],
   "source": [
    "date.year"
   ]
  },
  {
   "cell_type": "code",
   "execution_count": null,
   "metadata": {},
   "outputs": [],
   "source": []
  }
 ],
 "metadata": {
  "kernelspec": {
   "display_name": "Python 3",
   "language": "python",
   "name": "python3"
  },
  "language_info": {
   "codemirror_mode": {
    "name": "ipython",
    "version": 3
   },
   "file_extension": ".py",
   "mimetype": "text/x-python",
   "name": "python",
   "nbconvert_exporter": "python",
   "pygments_lexer": "ipython3",
   "version": "3.8.10"
  }
 },
 "nbformat": 4,
 "nbformat_minor": 5
}
