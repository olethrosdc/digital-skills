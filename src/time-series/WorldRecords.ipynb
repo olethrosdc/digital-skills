{
 "cells": [
  {
   "cell_type": "code",
   "execution_count": 137,
   "id": "91e53aaa-0503-4cb7-9916-a929c050d1cc",
   "metadata": {},
   "outputs": [],
   "source": [
    "# Import the necessary files\n",
    "import pandas as pd"
   ]
  },
  {
   "cell_type": "code",
   "execution_count": 150,
   "id": "1059da23-8676-4cf3-810d-b8b0dcb4612a",
   "metadata": {},
   "outputs": [],
   "source": [
    "# Read the tables\n",
    "tables = pd.read_html(\"https://en.wikipedia.org/wiki/1500_metres_world_record_progression\")\n",
    "table = tables[1]"
   ]
  },
  {
   "cell_type": "code",
   "execution_count": 139,
   "id": "d892afac-9010-469c-a731-3b1c69457b90",
   "metadata": {},
   "outputs": [],
   "source": [
    "# Demonstrate how tables look like with indices etc"
   ]
  },
  {
   "cell_type": "code",
   "execution_count": 151,
   "id": "15999a40-9620-401d-815c-015b57db84d2",
   "metadata": {},
   "outputs": [],
   "source": [
    "# Read times and dates from one table only\n",
    "times=table['Time']\n",
    "dates=table['Date']"
   ]
  },
  {
   "cell_type": "code",
   "execution_count": 152,
   "id": "a09d4fc5-f5bb-4340-ad84-1c400c0427be",
   "metadata": {},
   "outputs": [],
   "source": [
    "# Pick one record set\n",
    "import numpy as np\n",
    "n_records = len(times)\n",
    "years = np.zeros(n_records) # create zero years\n",
    "seconds = np.zeros(n_records) # create zero years\n",
    "for i in range(n_records):   \n",
    "    years[i] = datetime.datetime.strptime(dates[i], '%Y-%m-%d').year\n",
    "    tmp = times[i].replace(\"+\",\"0\").split(':')\n",
    "    seconds[i] = float(tmp[0])*60+float(tmp[1])"
   ]
  },
  {
   "cell_type": "code",
   "execution_count": 153,
   "id": "e89857c7-3c86-4af5-b1e8-3525ac51bbb0",
   "metadata": {},
   "outputs": [
    {
     "data": {
      "text/plain": [
       "(1910.0, 2010.0, 200.0, 240.0)"
      ]
     },
     "execution_count": 153,
     "metadata": {},
     "output_type": "execute_result"
    },
    {
     "data": {
      "image/png": "[encoded data removed]",
      "text/plain": [
       "<Figure size 432x288 with 1 Axes>"
      ]
     },
     "metadata": {
      "needs_background": "light"
     },
     "output_type": "display_data"
    }
   ],
   "source": [
    "import matplotlib.pyplot as plt\n",
    "plt.plot(years, seconds)\n",
    "plt.axis([1910,2010,200,240])"
   ]
  },
  {
   "cell_type": "code",
   "execution_count": 134,
   "id": "32157e32-32fb-4408-a8ed-708719ff567e",
   "metadata": {},
   "outputs": [
    {
     "data": {
      "text/plain": [
       "1912"
      ]
     },
     "execution_count": 134,
     "metadata": {},
     "output_type": "execute_result"
    }
   ],
   "source": [
    "date.year"
   ]
  },
  {
   "cell_type": "code",
   "execution_count": null,
   "id": "38a6c2aa-b87a-4f7b-9362-3860970b87f2",
   "metadata": {},
   "outputs": [],
   "source": []
  }
 ],
 "metadata": {
  "kernelspec": {
   "display_name": "Python 3 (ipykernel)",
   "language": "python",
   "name": "python3"
  },
  "language_info": {
   "codemirror_mode": {
    "name": "ipython",
    "version": 3
   },
   "file_extension": ".py",
   "mimetype": "text/x-python",
   "name": "python",
   "nbconvert_exporter": "python",
   "pygments_lexer": "ipython3",
   "version": "3.9.2"
  }
 },
 "nbformat": 4,
 "nbformat_minor": 5
}
