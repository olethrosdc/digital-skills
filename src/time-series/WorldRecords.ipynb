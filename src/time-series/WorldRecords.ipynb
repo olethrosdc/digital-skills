{
 "cells": [
  {
   "cell_type": "markdown",
   "metadata": {},
   "source": [
    "# World records example\n",
    "\n",
    "This example is in an illustration of concepts in python programming and the modelling of time-series data.\n",
    "\n",
    "## Python concepts\n",
    "\n",
    "This is a relatively complex Python program. Some parts are unfortunately too advanced by neccessity. You are not expected to be digest all of this right now, but you should be able to do something similar by the end of the course. Do not try to understand what the program is doing in detail, if you have no Python knowledge. Advanced concepts will be marked with 'advanced' \n",
    "\n"
   ]
  },
  {
   "cell_type": "code",
   "execution_count": 10,
   "metadata": {},
   "outputs": [],
   "source": [
    "# Import the necessary files\n",
    "import pandas as pd"
   ]
  },
  {
   "cell_type": "code",
   "execution_count": 16,
   "metadata": {},
   "outputs": [
    {
     "data": {
      "text/html": [
       "<div>\n",
       "<style scoped>\n",
       "    .dataframe tbody tr th:only-of-type {\n",
       "        vertical-align: middle;\n",
       "    }\n",
       "\n",
       "    .dataframe tbody tr th {\n",
       "        vertical-align: top;\n",
       "    }\n",
       "\n",
       "    .dataframe thead th {\n",
       "        text-align: right;\n",
       "    }\n",
       "</style>\n",
       "<table border=\"1\" class=\"dataframe\">\n",
       "  <thead>\n",
       "    <tr style=\"text-align: right;\">\n",
       "      <th></th>\n",
       "      <th>Time</th>\n",
       "      <th>Auto</th>\n",
       "      <th>Athlete</th>\n",
       "      <th>Date</th>\n",
       "      <th>Place</th>\n",
       "    </tr>\n",
       "  </thead>\n",
       "  <tbody>\n",
       "    <tr>\n",
       "      <th>0</th>\n",
       "      <td>4:17.3+</td>\n",
       "      <td>NaN</td>\n",
       "      <td>Anne Smith (GBR)</td>\n",
       "      <td>1967-06-03</td>\n",
       "      <td>Chiswick, Great Britain</td>\n",
       "    </tr>\n",
       "    <tr>\n",
       "      <th>1</th>\n",
       "      <td>4:15.6</td>\n",
       "      <td>NaN</td>\n",
       "      <td>Maria Gommers (NED)</td>\n",
       "      <td>1967-10-24</td>\n",
       "      <td>Sittard, Netherlands</td>\n",
       "    </tr>\n",
       "    <tr>\n",
       "      <th>2</th>\n",
       "      <td>4:12.4</td>\n",
       "      <td>NaN</td>\n",
       "      <td>Paola Pigni (ITA)</td>\n",
       "      <td>1969-07-02</td>\n",
       "      <td>Milan, Italy</td>\n",
       "    </tr>\n",
       "    <tr>\n",
       "      <th>3</th>\n",
       "      <td>4:10.7</td>\n",
       "      <td>4:10.77</td>\n",
       "      <td>Jaroslava Jehličková (CZE)</td>\n",
       "      <td>1969-09-20</td>\n",
       "      <td>Athens, Greece</td>\n",
       "    </tr>\n",
       "    <tr>\n",
       "      <th>4</th>\n",
       "      <td>4:09.6</td>\n",
       "      <td>4:09.62</td>\n",
       "      <td>Karin Burneleit (GDR)</td>\n",
       "      <td>1971-08-15</td>\n",
       "      <td>Helsinki, Finland</td>\n",
       "    </tr>\n",
       "    <tr>\n",
       "      <th>5</th>\n",
       "      <td>4:06.9</td>\n",
       "      <td>NaN</td>\n",
       "      <td>Ludmila Bragina (URS)</td>\n",
       "      <td>1972-07-18</td>\n",
       "      <td>Moscow, Soviet Union</td>\n",
       "    </tr>\n",
       "    <tr>\n",
       "      <th>6</th>\n",
       "      <td>4:06.5</td>\n",
       "      <td>4:06.47</td>\n",
       "      <td>Ludmila Bragina (URS)</td>\n",
       "      <td>1972-09-04</td>\n",
       "      <td>Munich, Germany</td>\n",
       "    </tr>\n",
       "    <tr>\n",
       "      <th>7</th>\n",
       "      <td>4:05.1</td>\n",
       "      <td>4:05.07</td>\n",
       "      <td>Ludmila Bragina (URS)</td>\n",
       "      <td>1972-09-07</td>\n",
       "      <td>Munich, Germany</td>\n",
       "    </tr>\n",
       "    <tr>\n",
       "      <th>8</th>\n",
       "      <td>4:01.4</td>\n",
       "      <td>4:01.38</td>\n",
       "      <td>Ludmila Bragina (URS)</td>\n",
       "      <td>1972-09-09</td>\n",
       "      <td>Munich, Germany</td>\n",
       "    </tr>\n",
       "    <tr>\n",
       "      <th>9</th>\n",
       "      <td>3:56.0</td>\n",
       "      <td>NaN</td>\n",
       "      <td>Tatyana Kazankina (URS)</td>\n",
       "      <td>1976-06-28</td>\n",
       "      <td>Podolsk, Soviet Union</td>\n",
       "    </tr>\n",
       "    <tr>\n",
       "      <th>10</th>\n",
       "      <td>3:55.0</td>\n",
       "      <td>NaN</td>\n",
       "      <td>Tatyana Kazankina (URS)</td>\n",
       "      <td>1980-07-06</td>\n",
       "      <td>Moscow, Soviet Union</td>\n",
       "    </tr>\n",
       "    <tr>\n",
       "      <th>11</th>\n",
       "      <td>3:52.47</td>\n",
       "      <td>NaN</td>\n",
       "      <td>Tatyana Kazankina (URS)</td>\n",
       "      <td>1980-08-03</td>\n",
       "      <td>Zurich, Switzerland</td>\n",
       "    </tr>\n",
       "    <tr>\n",
       "      <th>12</th>\n",
       "      <td>3:50.46</td>\n",
       "      <td>NaN</td>\n",
       "      <td>Qu Yunxia (CHN)</td>\n",
       "      <td>1993-09-11</td>\n",
       "      <td>Beijing, China</td>\n",
       "    </tr>\n",
       "    <tr>\n",
       "      <th>13</th>\n",
       "      <td>3:50.07</td>\n",
       "      <td>NaN</td>\n",
       "      <td>Genzebe Dibaba (ETH)</td>\n",
       "      <td>2015-07-17</td>\n",
       "      <td>Fontvieille, Monaco[5]</td>\n",
       "    </tr>\n",
       "  </tbody>\n",
       "</table>\n",
       "</div>"
      ],
      "text/plain": [
       "       Time     Auto                     Athlete        Date  \\\n",
       "0   4:17.3+      NaN            Anne Smith (GBR)  1967-06-03   \n",
       "1    4:15.6      NaN         Maria Gommers (NED)  1967-10-24   \n",
       "2    4:12.4      NaN           Paola Pigni (ITA)  1969-07-02   \n",
       "3    4:10.7  4:10.77  Jaroslava Jehličková (CZE)  1969-09-20   \n",
       "4    4:09.6  4:09.62       Karin Burneleit (GDR)  1971-08-15   \n",
       "5    4:06.9      NaN       Ludmila Bragina (URS)  1972-07-18   \n",
       "6    4:06.5  4:06.47       Ludmila Bragina (URS)  1972-09-04   \n",
       "7    4:05.1  4:05.07       Ludmila Bragina (URS)  1972-09-07   \n",
       "8    4:01.4  4:01.38       Ludmila Bragina (URS)  1972-09-09   \n",
       "9    3:56.0      NaN     Tatyana Kazankina (URS)  1976-06-28   \n",
       "10   3:55.0      NaN     Tatyana Kazankina (URS)  1980-07-06   \n",
       "11  3:52.47      NaN     Tatyana Kazankina (URS)  1980-08-03   \n",
       "12  3:50.46      NaN             Qu Yunxia (CHN)  1993-09-11   \n",
       "13  3:50.07      NaN        Genzebe Dibaba (ETH)  2015-07-17   \n",
       "\n",
       "                      Place  \n",
       "0   Chiswick, Great Britain  \n",
       "1      Sittard, Netherlands  \n",
       "2              Milan, Italy  \n",
       "3            Athens, Greece  \n",
       "4         Helsinki, Finland  \n",
       "5      Moscow, Soviet Union  \n",
       "6           Munich, Germany  \n",
       "7           Munich, Germany  \n",
       "8           Munich, Germany  \n",
       "9     Podolsk, Soviet Union  \n",
       "10     Moscow, Soviet Union  \n",
       "11      Zurich, Switzerland  \n",
       "12           Beijing, China  \n",
       "13   Fontvieille, Monaco[5]  "
      ]
     },
     "execution_count": 16,
     "metadata": {},
     "output_type": "execute_result"
    }
   ],
   "source": [
    "# Read all the tables from the following wikipedia article\n",
    "tables = pd.read_html(\"https://en.wikipedia.org/wiki/1500_metres_world_record_progression\")\n"
   ]
  },
  {
   "cell_type": "code",
   "execution_count": 3,
   "metadata": {},
   "outputs": [
    {
     "data": {
      "text/plain": [
       "0           1892\n",
       "1     1893-05-28\n",
       "2     1894-07-22\n",
       "3     1895-05-12\n",
       "4     1895-05-26\n",
       "5     1895-08-26\n",
       "6     1896-06-26\n",
       "7     1900-05-30\n",
       "8     1900-07-15\n",
       "9     1904-09-03\n",
       "10    1908-05-30\n",
       "11    1912-05-26\n",
       "12    1912-06-01\n",
       "Name: Date, dtype: object"
      ]
     },
     "execution_count": 3,
     "metadata": {},
     "output_type": "execute_result"
    }
   ],
   "source": [
    "# Demonstrate how tables look like with indices etc\n",
    "tables[0][\"Date\"]"
   ]
  },
  {
   "cell_type": "code",
   "execution_count": 18,
   "metadata": {},
   "outputs": [],
   "source": [
    "# For convenience, we define this variable to refer to the table we are interested in\n",
    "m_table = tables[1]\n",
    "f_table = tables[3]\n",
    "# We want to plot the world record times versus the year, so we pick two columns from the table\n",
    "m_times=m_table['Time']\n",
    "m_dates=m_table['Date']\n",
    "f_times=f_table['Time']\n",
    "f_dates=f_table['Date']\n",
    "\n",
    "# show how times and dates look like"
   ]
  },
  {
   "cell_type": "code",
   "execution_count": 19,
   "metadata": {},
   "outputs": [
    {
     "data": {
      "text/plain": [
       "[<matplotlib.lines.Line2D at 0x7f808aaea370>]"
      ]
     },
     "execution_count": 19,
     "metadata": {},
     "output_type": "execute_result"
    },
    {
     "data": {
      "image/png": "[encoded data removed]",
      "text/plain": [
       "<Figure size 432x288 with 1 Axes>"
      ]
     },
     "metadata": {
      "needs_background": "light"
     },
     "output_type": "display_data"
    }
   ],
   "source": [
    "import matplotlib.pyplot as plt\n",
    "plt.plot(times, dates) # this does not work! Dates have to be converted"
   ]
  },
  {
   "cell_type": "code",
   "execution_count": 20,
   "metadata": {},
   "outputs": [],
   "source": [
    "# advanced python: multiple advanced concepts are used to convert the data into a numeric format.\n",
    "# There is no 'easy' way to do this. You can ignore this at first.\n",
    "def get_numerical_date_and_time (times, dates):\n",
    "    dates = pd.to_datetime(dates) # advanced: convert the date *string* to a date *object* that we can later parse\n",
    "\n",
    "    import numpy as np\n",
    "    n_records = len(times)\n",
    "    years = np.zeros(n_records) # create a zero vector for the years\n",
    "    seconds = np.zeros(n_records) # create a zero vector for the seconds\n",
    "    ## Now we need to parse the table into numbers\n",
    "    for i in range(n_records): # advanced: first, we need to loop through all the records   \n",
    "        years[i] = dates[i].date().year # advanced: extract the year from the full date\n",
    "        # times are formatted as '3:30.23', sometimes with a + at the end\n",
    "        tmp = times[i].replace(\"+\",\"0\").split(':') # advanced: this (1) replaces \"+\" wiht \"0\" and the splits the date in two numbers\n",
    "        seconds[i] = float(tmp[0])*60+float(tmp[1]) # this combines the number of minutes and number of seconds in total seconds\n",
    "    return years, seconds\n",
    "\n",
    "m_years, m_seconds = get_numerical_date_and_time(m_times, m_dates)\n",
    "f_years, f_seconds = get_numerical_date_and_time(f_times, f_dates)\n"
   ]
  },
  {
   "cell_type": "code",
   "execution_count": 26,
   "metadata": {},
   "outputs": [
    {
     "data": {
      "image/png": "[encoded data removed]",
      "text/plain": [
       "<Figure size 432x288 with 1 Axes>"
      ]
     },
     "metadata": {
      "needs_background": "light"
     },
     "output_type": "display_data"
    }
   ],
   "source": [
    "#simply plot the records\n",
    "import matplotlib.pyplot as plt\n",
    "# plot the progression directly\n",
    "plt.plot(m_years, m_seconds)\n",
    "plt.plot(f_years, f_seconds)\n",
    "\n",
    "# we also fit two lines to the data and plot those\n",
    "m_b, m_a = np.polyfit(m_years, m_seconds, deg=1)\n",
    "f_b, f_a = np.polyfit(f_years, f_seconds, deg=1)\n",
    "x_axis = np.linspace(1910,2020) # generate an x axis sequence for plotting the fit\n",
    "plt.plot(x_axis, m_a + x_axis * m_b) \n",
    "plt.plot(x_axis, f_a + x_axis * f_b) \n",
    "plt.axis([1910, 2020, 200, 240])\n",
    "plt.savefig(\"records.pdf\")"
   ]
  },
  {
   "cell_type": "markdown",
   "metadata": {},
   "source": [
    "# Discussion of linear fit\n",
    "\n",
    "Obviosuly, the regression line all the way to zero does not make any sense. If we extend the x-axis to 400 or so, then we get the following plot, which shows that the women's times surpass the men's times in 2100 approximately, and they even reach negative values in 2400.\n",
    "\n",
    "Our guiding principle for modelling then has to be related to the process of how the data has been generated. Are athletes improving all the time, or are just some athletes randomly giving us better times? The other principle relies on fundamental aspects of the data. We believe it is impossible for anybody to run faster than 10 (11) seconds (for weomen) per 100m for an extended period, so that the absolute lowest time must be 150 seconds for men and 165 for women."
   ]
  },
  {
   "cell_type": "code",
   "execution_count": 32,
   "metadata": {},
   "outputs": [
    {
     "data": {
      "image/png": "[encoded data removed]",
      "text/plain": [
       "<Figure size 432x288 with 1 Axes>"
      ]
     },
     "metadata": {
      "needs_background": "light"
     },
     "output_type": "display_data"
    }
   ],
   "source": [
    "x_axis = np.linspace(1910,2500) # generate an x axis sequence for plotting the fit\n",
    "plt.plot(x_axis, m_a + x_axis * m_b) \n",
    "plt.plot(x_axis, f_a + x_axis * f_b) \n",
    "plt.legend([\"Men\", \"Women\"])\n",
    "plt.grid()"
   ]
  },
  {
   "cell_type": "code",
   "execution_count": 63,
   "metadata": {},
   "outputs": [
    {
     "data": {
      "text/plain": [
       "[<matplotlib.lines.Line2D at 0x7f8089b8e6a0>]"
      ]
     },
     "execution_count": 63,
     "metadata": {},
     "output_type": "execute_result"
    },
    {
     "data": {
      "image/png": "[encoded data removed]",
      "text/plain": [
       "<Figure size 432x288 with 1 Axes>"
      ]
     },
     "metadata": {
      "needs_background": "light"
     },
     "output_type": "display_data"
    }
   ],
   "source": [
    "# We want to have a linear model, but we can simply try to transform our variables and fit a linear model to the logarithm of the time.\n",
    "\n",
    "m_b, m_a = np.polyfit(m_years, np.log(m_seconds), deg=1)\n",
    "f_b, f_a = np.polyfit(f_years, np.log(f_seconds), deg=1)\n",
    "x_axis = np.linspace(1910, 2500) # generate an x axis sequence for plotting the fit\n",
    "plt.plot(m_years, m_seconds)\n",
    "plt.plot(f_years, f_seconds)\n",
    "plt.plot(x_axis, np.exp(m_a + x_axis * m_b)) \n",
    "plt.plot(x_axis, np.exp(f_a + x_axis * f_b) )\n"
   ]
  },
  {
   "cell_type": "markdown",
   "metadata": {},
   "source": [
    "# Discussion of logarithmic fit\n",
    "\n",
    "This fit is more reasonable. It does not reach zero, and it is nearly linear, if we zoom in, as we'll see in the graph below.\n",
    "On the other hand, the female athletes still suprass male performance.\n"
   ]
  },
  {
   "cell_type": "code",
   "execution_count": 65,
   "metadata": {},
   "outputs": [
    {
     "data": {
      "text/plain": [
       "(1910.0, 2020.0, 200.0, 240.0)"
      ]
     },
     "execution_count": 65,
     "metadata": {},
     "output_type": "execute_result"
    },
    {
     "data": {
      "image/png": "[encoded data removed]",
      "text/plain": [
       "<Figure size 432x288 with 1 Axes>"
      ]
     },
     "metadata": {
      "needs_background": "light"
     },
     "output_type": "display_data"
    }
   ],
   "source": [
    "plt.plot(m_years, m_seconds)\n",
    "plt.plot(f_years, f_seconds)\n",
    "plt.plot(x_axis, np.exp(m_a + x_axis * m_b)) \n",
    "plt.plot(x_axis, np.exp(f_a + x_axis * f_b) )\n",
    "plt.axis([1910, 2020, 200, 240])\n"
   ]
  },
  {
   "cell_type": "markdown",
   "metadata": {},
   "source": [
    "# Discussion on the need for a more elaborate model\n",
    "\n",
    "Finally, we need some way to potentially explain the data. For this, we can look at more data sources. Do the world record changes reflect a real improvement in performance (e.g. due to improved training, technology, drugs), or is it simply a statistical artefact and performance is relatively stable? \n",
    "\n",
    "For this, we can try and look at seasonal data. Is there a trend of worlds best times getting better every year? Wikipedia has a table on yearly best times for 100m, which we can try and look at. There, we can see that the average best times over each decade were:\n",
    "\n",
    "1970s: 10.043\n",
    "1980s: 9.987\n",
    "1990s: 9.873\n",
    "2000s: 9.79\n",
    "2010s: 9.762\n",
    "\n",
    "Since average best times are getting lower, it suggests at the very least, that the top-tier athletes are overall getting faster. However, a more in-depth analysis is required to make a firm conclusion.\n",
    "\n",
    "\n"
   ]
  },
  {
   "cell_type": "code",
   "execution_count": 74,
   "metadata": {},
   "outputs": [
    {
     "data": {
      "text/html": [
       "<div>\n",
       "<style scoped>\n",
       "    .dataframe tbody tr th:only-of-type {\n",
       "        vertical-align: middle;\n",
       "    }\n",
       "\n",
       "    .dataframe tbody tr th {\n",
       "        vertical-align: top;\n",
       "    }\n",
       "\n",
       "    .dataframe thead th {\n",
       "        text-align: right;\n",
       "    }\n",
       "</style>\n",
       "<table border=\"1\" class=\"dataframe\">\n",
       "  <thead>\n",
       "    <tr style=\"text-align: right;\">\n",
       "      <th></th>\n",
       "      <th>0</th>\n",
       "      <th>1</th>\n",
       "      <th>2</th>\n",
       "      <th>3</th>\n",
       "    </tr>\n",
       "  </thead>\n",
       "  <tbody>\n",
       "    <tr>\n",
       "      <th>0</th>\n",
       "      <td>Men[edit] Year Time Athlete Place 1972 10.07  ...</td>\n",
       "      <td>Women[edit] Year Time Athlete Place 1972 11.07...</td>\n",
       "      <td>NaN</td>\n",
       "      <td>NaN</td>\n",
       "    </tr>\n",
       "    <tr>\n",
       "      <th>1</th>\n",
       "      <td>Year</td>\n",
       "      <td>Time</td>\n",
       "      <td>Athlete</td>\n",
       "      <td>Place</td>\n",
       "    </tr>\n",
       "    <tr>\n",
       "      <th>2</th>\n",
       "      <td>1972</td>\n",
       "      <td>10.07</td>\n",
       "      <td>Valeriy Borzov (URS)</td>\n",
       "      <td>Munich</td>\n",
       "    </tr>\n",
       "    <tr>\n",
       "      <th>3</th>\n",
       "      <td>1973</td>\n",
       "      <td>10.15</td>\n",
       "      <td>Steve Williams (USA)</td>\n",
       "      <td>Dakar</td>\n",
       "    </tr>\n",
       "    <tr>\n",
       "      <th>4</th>\n",
       "      <td>1974</td>\n",
       "      <td>9.9h</td>\n",
       "      <td>Steve Williams (USA)</td>\n",
       "      <td>Los Angeles</td>\n",
       "    </tr>\n",
       "    <tr>\n",
       "      <th>...</th>\n",
       "      <td>...</td>\n",
       "      <td>...</td>\n",
       "      <td>...</td>\n",
       "      <td>...</td>\n",
       "    </tr>\n",
       "    <tr>\n",
       "      <th>112</th>\n",
       "      <td>2018</td>\n",
       "      <td>10.85</td>\n",
       "      <td>Dina Asher-Smith (GBR)</td>\n",
       "      <td>Berlin</td>\n",
       "    </tr>\n",
       "    <tr>\n",
       "      <th>113</th>\n",
       "      <td>2019</td>\n",
       "      <td>10.71</td>\n",
       "      <td>Shelly-Ann Fraser-Pryce (JAM)</td>\n",
       "      <td>Doha</td>\n",
       "    </tr>\n",
       "    <tr>\n",
       "      <th>114</th>\n",
       "      <td>2020</td>\n",
       "      <td>10.85</td>\n",
       "      <td>Elaine Thompson-Herah (JAM)</td>\n",
       "      <td>Rome</td>\n",
       "    </tr>\n",
       "    <tr>\n",
       "      <th>115</th>\n",
       "      <td>2021</td>\n",
       "      <td>10.54</td>\n",
       "      <td>Elaine Thompson-Herah (JAM)</td>\n",
       "      <td>Eugene</td>\n",
       "    </tr>\n",
       "    <tr>\n",
       "      <th>116</th>\n",
       "      <td>2022</td>\n",
       "      <td>10.62</td>\n",
       "      <td>Shelly-Ann Fraser-Pryce (JAM)</td>\n",
       "      <td>Monaco</td>\n",
       "    </tr>\n",
       "  </tbody>\n",
       "</table>\n",
       "<p>117 rows × 4 columns</p>\n",
       "</div>"
      ],
      "text/plain": [
       "                                                     0  \\\n",
       "0    Men[edit] Year Time Athlete Place 1972 10.07  ...   \n",
       "1                                                 Year   \n",
       "2                                                 1972   \n",
       "3                                                 1973   \n",
       "4                                                 1974   \n",
       "..                                                 ...   \n",
       "112                                               2018   \n",
       "113                                               2019   \n",
       "114                                               2020   \n",
       "115                                               2021   \n",
       "116                                               2022   \n",
       "\n",
       "                                                     1  \\\n",
       "0    Women[edit] Year Time Athlete Place 1972 11.07...   \n",
       "1                                                 Time   \n",
       "2                                                10.07   \n",
       "3                                                10.15   \n",
       "4                                                 9.9h   \n",
       "..                                                 ...   \n",
       "112                                              10.85   \n",
       "113                                              10.71   \n",
       "114                                              10.85   \n",
       "115                                              10.54   \n",
       "116                                              10.62   \n",
       "\n",
       "                                 2            3  \n",
       "0                              NaN          NaN  \n",
       "1                          Athlete        Place  \n",
       "2             Valeriy Borzov (URS)       Munich  \n",
       "3             Steve Williams (USA)        Dakar  \n",
       "4             Steve Williams (USA)  Los Angeles  \n",
       "..                             ...          ...  \n",
       "112         Dina Asher-Smith (GBR)       Berlin  \n",
       "113  Shelly-Ann Fraser-Pryce (JAM)         Doha  \n",
       "114    Elaine Thompson-Herah (JAM)         Rome  \n",
       "115    Elaine Thompson-Herah (JAM)       Eugene  \n",
       "116  Shelly-Ann Fraser-Pryce (JAM)       Monaco  \n",
       "\n",
       "[117 rows x 4 columns]"
      ]
     },
     "execution_count": 74,
     "metadata": {},
     "output_type": "execute_result"
    }
   ],
   "source": []
  },
  {
   "cell_type": "code",
   "execution_count": null,
   "metadata": {},
   "outputs": [],
   "source": []
  }
 ],
 "metadata": {
  "kernelspec": {
   "display_name": "Python 3",
   "language": "python",
   "name": "python3"
  },
  "language_info": {
   "codemirror_mode": {
    "name": "ipython",
    "version": 3
   },
   "file_extension": ".py",
   "mimetype": "text/x-python",
   "name": "python",
   "nbconvert_exporter": "python",
   "pygments_lexer": "ipython3",
   "version": "3.8.10"
  }
 },
 "nbformat": 4,
 "nbformat_minor": 5
}
