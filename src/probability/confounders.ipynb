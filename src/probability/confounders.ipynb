{
 "cells": [
  {
   "cell_type": "code",
   "execution_count": 3,
   "id": "bbb01037-4e0d-47ad-aeaf-47ca871f7205",
   "metadata": {},
   "outputs": [],
   "source": [
    "# correlation examples\n",
    "import pandas as pd\n",
    "import numpy as np"
   ]
  },
  {
   "cell_type": "code",
   "execution_count": 2,
   "id": "9e387248-91bc-41e8-96f4-2c1639802da4",
   "metadata": {},
   "outputs": [
    {
     "data": {
      "text/html": [
       "<div>\n",
       "<style scoped>\n",
       "    .dataframe tbody tr th:only-of-type {\n",
       "        vertical-align: middle;\n",
       "    }\n",
       "\n",
       "    .dataframe tbody tr th {\n",
       "        vertical-align: top;\n",
       "    }\n",
       "\n",
       "    .dataframe thead th {\n",
       "        text-align: right;\n",
       "    }\n",
       "</style>\n",
       "<table border=\"1\" class=\"dataframe\">\n",
       "  <thead>\n",
       "    <tr style=\"text-align: right;\">\n",
       "      <th></th>\n",
       "      <th>Failure</th>\n",
       "      <th>Success</th>\n",
       "    </tr>\n",
       "  </thead>\n",
       "  <tbody>\n",
       "    <tr>\n",
       "      <th>Small stones</th>\n",
       "      <td>NaN</td>\n",
       "      <td>NaN</td>\n",
       "    </tr>\n",
       "    <tr>\n",
       "      <th>Large stones</th>\n",
       "      <td>NaN</td>\n",
       "      <td>NaN</td>\n",
       "    </tr>\n",
       "  </tbody>\n",
       "</table>\n",
       "</div>"
      ],
      "text/plain": [
       "             Failure Success\n",
       "Small stones     NaN     NaN\n",
       "Large stones     NaN     NaN"
      ]
     },
     "execution_count": 2,
     "metadata": {},
     "output_type": "execute_result"
    }
   ],
   "source": [
    "# generate data\n",
    "import numpy as np\n",
    "def generate_data(n_data = 100, p_large_stones = 0.2, p_treatment_A_small = 0.9, P_treatment_A_small = 0.2):\n",
    "    stone_size = np.random.choice(2, p = [1 - p_large_stones, p_large_stones], size = n_data)\n",
    "    treatment = np.random.choice(2, p = [1 - p_large_\n",
    "    "
   ]
  },
  {
   "cell_type": "code",
   "execution_count": null,
   "id": "0d80a084-978b-4932-8407-8b1ad58f0ffc",
   "metadata": {},
   "outputs": [],
   "source": [
    "# summarise data\n",
    "success_rate = pd.DataFrame(columns  = [\"Treatment A\", \"Treatment B\"], index = [\"Small stones\", \"Large stones\"])\n",
    "x = [0.2, 0.3, 0.4]\n",
    "stone_size = \n"
   ]
  }
 ],
 "metadata": {
  "kernelspec": {
   "display_name": "Python 3 (ipykernel)",
   "language": "python",
   "name": "python3"
  },
  "language_info": {
   "codemirror_mode": {
    "name": "ipython",
    "version": 3
   },
   "file_extension": ".py",
   "mimetype": "text/x-python",
   "name": "python",
   "nbconvert_exporter": "python",
   "pygments_lexer": "ipython3",
   "version": "3.9.2"
  }
 },
 "nbformat": 4,
 "nbformat_minor": 5
}
