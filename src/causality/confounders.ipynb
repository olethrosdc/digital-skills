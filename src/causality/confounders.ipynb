{
 "cells": [
  {
   "cell_type": "code",
   "execution_count": 1,
   "metadata": {},
   "outputs": [],
   "source": [
    "# correlation examples\n",
    "import pandas as pd\n",
    "import numpy as np"
   ]
  },
  {
   "cell_type": "code",
   "execution_count": 2,
   "metadata": {},
   "outputs": [],
   "source": [
    "# get data\n",
    "from stones_data import generate_data\n",
    "stone_size, treatment, cured = generate_data()\n",
    "# stone_size in {0,1}: small or large\n",
    "# treatment in {0,1}: treatment A or B\n",
    "# cured in {0,1}: 1 if successful, 0 if not\n"
   ]
  },
  {
   "cell_type": "markdown",
   "metadata": {},
   "source": [
    "# Quality of treatment\n",
    "How often does treatment A work? Calculate the cure rate for treatment A and B.\n",
    "Which treatment seems better? Write a small function that outputs the treatment rates and recommends a treatment\n"
   ]
  },
  {
   "cell_type": "code",
   "execution_count": 12,
   "metadata": {},
   "outputs": [],
   "source": [
    "def select_naive_treatment(stone_size, treatment, cured):\n",
    "    treatment_A_efficacy = np.mean(cured[treatment==0])\n",
    "    treatment_B_efficacy = np.mean(cured[treatment==1])\n",
    "    print(\"Efficacies\", treatment_A_efficacy, treatment_B_efficacy)\n",
    "    if (treatment_A_efficacy > treatment_B_efficacy):\n",
    "        print(\"A is better!?\")\n",
    "        return 0\n",
    "    else:\n",
    "        print(\"B is better!?\")\n",
    "        return 1\n",
    "    "
   ]
  },
  {
   "cell_type": "code",
   "execution_count": 13,
   "metadata": {},
   "outputs": [
    {
     "name": "stdout",
     "output_type": "stream",
     "text": [
      "Efficacies 0.6999344063777183 0.8417954378219279\n",
      "B is better!?\n"
     ]
    },
    {
     "data": {
      "text/plain": [
       "1"
      ]
     },
     "execution_count": 13,
     "metadata": {},
     "output_type": "execute_result"
    }
   ],
   "source": [
    "select_naive_treatment(stone_size, treatment, cured)"
   ]
  },
  {
   "cell_type": "code",
   "execution_count": 5,
   "metadata": {},
   "outputs": [
    {
     "data": {
      "text/plain": [
       "array([[ 1.        , -0.00343223, -0.34657757],\n",
       "       [-0.00343223,  1.        ,  0.14523897],\n",
       "       [-0.34657757,  0.14523897,  1.        ]])"
      ]
     },
     "execution_count": 5,
     "metadata": {},
     "output_type": "execute_result"
    }
   ],
   "source": [
    "data = np.array([stone_size, treatment, cured])\n",
    "np.corrcoef(data)"
   ]
  },
  {
   "cell_type": "markdown",
   "metadata": {},
   "source": [
    "# Confounders\n",
    "How should we think about the treatments? \n",
    "Does the treatment depend on the type of stone? Calculate this.\n"
   ]
  },
  {
   "cell_type": "code",
   "execution_count": 6,
   "metadata": {},
   "outputs": [
    {
     "data": {
      "text/plain": [
       "(0.8024479959411466, 0.9009505377015405)"
      ]
     },
     "execution_count": 6,
     "metadata": {},
     "output_type": "execute_result"
    }
   ],
   "source": [
    "np.mean(cured[(treatment==0) & (stone_size==0)]), np.mean(cured[(treatment==1) & (stone_size==0)])"
   ]
  },
  {
   "cell_type": "code",
   "execution_count": 7,
   "metadata": {},
   "outputs": [],
   "source": [
    "# Probability of cure given treatment and stone size\n",
    "P_cure = np.zeros([2,2])\n",
    "for t in range(2):\n",
    "    for s in range(2):\n",
    "        P_cure[t, s] = np.mean(cured[(treatment==t) & (stone_size==s)])"
   ]
  },
  {
   "cell_type": "code",
   "execution_count": 8,
   "metadata": {},
   "outputs": [
    {
     "data": {
      "text/html": [
       "<div>\n",
       "<style scoped>\n",
       "    .dataframe tbody tr th:only-of-type {\n",
       "        vertical-align: middle;\n",
       "    }\n",
       "\n",
       "    .dataframe tbody tr th {\n",
       "        vertical-align: top;\n",
       "    }\n",
       "\n",
       "    .dataframe thead th {\n",
       "        text-align: right;\n",
       "    }\n",
       "</style>\n",
       "<table border=\"1\" class=\"dataframe\">\n",
       "  <thead>\n",
       "    <tr style=\"text-align: right;\">\n",
       "      <th></th>\n",
       "      <th>Small</th>\n",
       "      <th>Large</th>\n",
       "    </tr>\n",
       "  </thead>\n",
       "  <tbody>\n",
       "    <tr>\n",
       "      <th>A</th>\n",
       "      <td>0.802448</td>\n",
       "      <td>0.300913</td>\n",
       "    </tr>\n",
       "    <tr>\n",
       "      <th>B</th>\n",
       "      <td>0.900951</td>\n",
       "      <td>0.606567</td>\n",
       "    </tr>\n",
       "  </tbody>\n",
       "</table>\n",
       "</div>"
      ],
      "text/plain": [
       "      Small     Large\n",
       "A  0.802448  0.300913\n",
       "B  0.900951  0.606567"
      ]
     },
     "execution_count": 8,
     "metadata": {},
     "output_type": "execute_result"
    }
   ],
   "source": [
    "pd.DataFrame(P_cure, columns=[\"Small\", \"Large\"], index=[\"A\", \"B\"])"
   ]
  },
  {
   "cell_type": "code",
   "execution_count": 9,
   "metadata": {},
   "outputs": [
    {
     "data": {
      "text/plain": [
       "0.8024975888372559"
      ]
     },
     "execution_count": 9,
     "metadata": {},
     "output_type": "execute_result"
    }
   ],
   "source": [
    "# The probability that we are treated with B if stones are small \n",
    "np.mean(treatment[stone_size == 0])"
   ]
  },
  {
   "cell_type": "code",
   "execution_count": 10,
   "metadata": {},
   "outputs": [
    {
     "data": {
      "text/plain": [
       "0.7990874373853097"
      ]
     },
     "execution_count": 10,
     "metadata": {},
     "output_type": "execute_result"
    }
   ],
   "source": [
    "# The probability that we are treated with B if stones are large \n",
    "np.mean(treatment[stone_size == 1])"
   ]
  },
  {
   "cell_type": "code",
   "execution_count": 11,
   "metadata": {},
   "outputs": [],
   "source": [
    "def select_best_treatment(stone_size, treatment, cured):\n",
    "    P_cure = np.zeros([2,2])\n",
    "    for t in range(2):\n",
    "        for s in range(2):\n",
    "            P_cure[t, s] = np.mean(cured[(treatment==t) & (stone_size==s)])\n",
    "    if(P_cure[0, 0] > P_cure[1, 0] and P_cure[0,1] > P_cure[1,1]):\n",
    "        print(\"Treatment A is always better\")\n",
    "        return 0\n",
    "    else:\n",
    "        print(\"Treatment A is not always better, so I recommend B\")\n",
    "        return 1"
   ]
  }
 ],
 "metadata": {
  "kernelspec": {
   "display_name": "Python 3",
   "language": "python",
   "name": "python3"
  },
  "language_info": {
   "codemirror_mode": {
    "name": "ipython",
    "version": 3
   },
   "file_extension": ".py",
   "mimetype": "text/x-python",
   "name": "python",
   "nbconvert_exporter": "python",
   "pygments_lexer": "ipython3",
   "version": "3.8.10"
  }
 },
 "nbformat": 4,
 "nbformat_minor": 5
}
