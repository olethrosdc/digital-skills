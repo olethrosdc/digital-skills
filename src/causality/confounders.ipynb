{
 "cells": [
  {
   "cell_type": "code",
   "execution_count": 2,
   "metadata": {},
   "outputs": [],
   "source": [
    "# correlation examples\n",
    "import pandas as pd\n",
    "import numpy as np"
   ]
  },
  {
   "cell_type": "code",
   "execution_count": 130,
   "metadata": {},
   "outputs": [],
   "source": [
    "# generate data\n",
    "import numpy as np\n",
    "def generate_data(n_data = 100000, p_large_stones = 0.2, P_A_small = 0.9, P_A_large = 0.2, P_cure_A_small = 0.8, P_cure_A_large = 0.3, P_cure_B_small = 0.9, P_cure_B_large = 0.6):\n",
    "    stone_size = np.random.choice(2, p = [1 - p_large_stones, p_large_stones], size = n_data)\n",
    "    treatment = np.zeros(n_data)\n",
    "    cured = np.zeros(n_data)\n",
    "    P_cure = np.zeros([2,2])\n",
    "    P_cure[0,0] = P_cure_A_small\n",
    "    P_cure[0,1] = P_cure_B_small\n",
    "    P_cure[1,0] = P_cure_A_large\n",
    "    P_cure[1,1] = P_cure_B_large\n",
    "    for t in range(n_data):\n",
    "        P_A = P_A_small * (1 - stone_size[t]) + P_A_large * stone_size[t]\n",
    "        treatment[t] = np.random.choice(2, p = [P_A, 1 - P_A])\n",
    "        P_cure_t = P_cure[stone_size[t], int(treatment[t])]\n",
    "        cured[t] = np.random.choice(2, p = [1 - P_cure_t, P_cure_t])\n",
    "    return stone_size, treatment, cured\n",
    "\n",
    "    "
   ]
  },
  {
   "cell_type": "code",
   "execution_count": 131,
   "metadata": {},
   "outputs": [
    {
     "data": {
      "text/plain": [
       "array([0.77158822, 0.69845447])"
      ]
     },
     "execution_count": 131,
     "metadata": {},
     "output_type": "execute_result"
    }
   ],
   "source": [
    "# summarise data\n",
    "stone_size, treatment, cured = generate_data()\n",
    "avg_p_cured = np.zeros(2)\n",
    "for t in range(2):\n",
    "    avg_p_cured[t] = sum((treatment==t) & (cured==1)) / sum (treatment==t)\n",
    "#avg_success_rate = pd.DataFrame(columns  = [\"Treatment A\", \"Treatment B\"], data = avg_p_cured)\n",
    "\n",
    "#avg_success_rate\n",
    "avg_p_cured"
   ]
  },
  {
   "cell_type": "code",
   "execution_count": 132,
   "metadata": {},
   "outputs": [],
   "source": [
    "p_cured = np.zeros([2,2])\n",
    "\n",
    "for t in range(2):\n",
    "    for s in range(2):\n",
    "        p_cured[s, t] = sum((stone_size==s) & (treatment==t) & (cured==1)) / sum ((stone_size==s) & (treatment==t))\n",
    "\n",
    "\n",
    "    \n",
    "success_rate = pd.DataFrame(columns  = [\"Treatment A\", \"Treatment B\"], index = [\"Small stones\", \"Large stones\"], data = p_cured)\n"
   ]
  },
  {
   "cell_type": "code",
   "execution_count": 126,
   "metadata": {},
   "outputs": [
    {
     "data": {
      "text/html": [
       "<div>\n",
       "<style scoped>\n",
       "    .dataframe tbody tr th:only-of-type {\n",
       "        vertical-align: middle;\n",
       "    }\n",
       "\n",
       "    .dataframe tbody tr th {\n",
       "        vertical-align: top;\n",
       "    }\n",
       "\n",
       "    .dataframe thead th {\n",
       "        text-align: right;\n",
       "    }\n",
       "</style>\n",
       "<table border=\"1\" class=\"dataframe\">\n",
       "  <thead>\n",
       "    <tr style=\"text-align: right;\">\n",
       "      <th></th>\n",
       "      <th>Treatment A</th>\n",
       "      <th>Treatment B</th>\n",
       "    </tr>\n",
       "  </thead>\n",
       "  <tbody>\n",
       "    <tr>\n",
       "      <th>Small stones</th>\n",
       "      <td>0.800092</td>\n",
       "      <td>0.897352</td>\n",
       "    </tr>\n",
       "    <tr>\n",
       "      <th>Large stones</th>\n",
       "      <td>0.299097</td>\n",
       "      <td>0.599970</td>\n",
       "    </tr>\n",
       "  </tbody>\n",
       "</table>\n",
       "</div>"
      ],
      "text/plain": [
       "              Treatment A  Treatment B\n",
       "Small stones     0.800092     0.897352\n",
       "Large stones     0.299097     0.599970"
      ]
     },
     "execution_count": 126,
     "metadata": {},
     "output_type": "execute_result"
    }
   ],
   "source": [
    "success_rate"
   ]
  },
  {
   "cell_type": "code",
   "execution_count": 129,
   "metadata": {},
   "outputs": [
    {
     "data": {
      "text/plain": [
       "0.8400000000000001"
      ]
     },
     "execution_count": 129,
     "metadata": {},
     "output_type": "execute_result"
    }
   ],
   "source": [
    "# in this setting, there is no confounding in the original data: the size of the stones is observed. \n",
    "# We can think of the policy as taking the type of stones x as an input, and outputting an action a as a treatment\n",
    "# using a random value omega to generate it\n",
    "# a = policy(stones, omega_1)\n",
    "# The treatment effect depends on both the stones and the treatment\n",
    "# y = treatment_effect(stones, a, omega_2)\n"
   ]
  },
  {
   "cell_type": "code",
   "execution_count": null,
   "metadata": {},
   "outputs": [],
   "source": []
  }
 ],
 "metadata": {
  "kernelspec": {
   "display_name": "Python 3",
   "language": "python",
   "name": "python3"
  },
  "language_info": {
   "codemirror_mode": {
    "name": "ipython",
    "version": 3
   },
   "file_extension": ".py",
   "mimetype": "text/x-python",
   "name": "python",
   "nbconvert_exporter": "python",
   "pygments_lexer": "ipython3",
   "version": "3.8.10"
  }
 },
 "nbformat": 4,
 "nbformat_minor": 5
}
